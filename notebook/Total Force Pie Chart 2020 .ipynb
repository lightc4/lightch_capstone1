{
 "cells": [
  {
   "cell_type": "code",
   "execution_count": 2,
   "id": "e07a2885-8594-4861-b2db-3a7b7b03cada",
   "metadata": {},
   "outputs": [],
   "source": [
    "from sqlalchemy import create_engine, text\n",
    "import pandas as pd\n",
    "import numpy as np\n",
    "import matplotlib.pyplot as plt\n",
    "import seaborn as sns\n",
    "\n",
    "%matplotlib inline"
   ]
  },
  {
   "cell_type": "code",
   "execution_count": 17,
   "id": "84fcda50-8a8a-40b4-8440-c7debd3c44de",
   "metadata": {},
   "outputs": [],
   "source": [
    "df = pd.read_excel('../data/Total Force 2020R.xlsx')"
   ]
  },
  {
   "cell_type": "code",
   "execution_count": 18,
   "id": "39d340fe-2cb3-4481-b1bf-318d1ae535cc",
   "metadata": {},
   "outputs": [
    {
     "data": {
      "text/html": [
       "<div>\n",
       "<style scoped>\n",
       "    .dataframe tbody tr th:only-of-type {\n",
       "        vertical-align: middle;\n",
       "    }\n",
       "\n",
       "    .dataframe tbody tr th {\n",
       "        vertical-align: top;\n",
       "    }\n",
       "\n",
       "    .dataframe thead th {\n",
       "        text-align: right;\n",
       "    }\n",
       "</style>\n",
       "<table border=\"1\" class=\"dataframe\">\n",
       "  <thead>\n",
       "    <tr style=\"text-align: right;\">\n",
       "      <th></th>\n",
       "      <th>Total_Force_Components_2020</th>\n",
       "      <th>Component</th>\n",
       "      <th>Number</th>\n",
       "      <th>Percent</th>\n",
       "      <th>Percent_P</th>\n",
       "    </tr>\n",
       "  </thead>\n",
       "  <tbody>\n",
       "    <tr>\n",
       "      <th>0</th>\n",
       "      <td>DoD Active Duty (n=1,333,822) 38.2%</td>\n",
       "      <td>DoD Active Duty</td>\n",
       "      <td>1333822</td>\n",
       "      <td>0.382</td>\n",
       "      <td>0.382675</td>\n",
       "    </tr>\n",
       "    <tr>\n",
       "      <th>1</th>\n",
       "      <td>Reserve Components (n=1,212,557) 34.8%</td>\n",
       "      <td>Reserve Components</td>\n",
       "      <td>1212557</td>\n",
       "      <td>0.348</td>\n",
       "      <td>0.347884</td>\n",
       "    </tr>\n",
       "    <tr>\n",
       "      <th>2</th>\n",
       "      <td>DoD Civilian Personnel (n=898,581) 25.8%</td>\n",
       "      <td>DoD Civilian Personnel</td>\n",
       "      <td>898581</td>\n",
       "      <td>0.258</td>\n",
       "      <td>0.257804</td>\n",
       "    </tr>\n",
       "    <tr>\n",
       "      <th>3</th>\n",
       "      <td>Coast Guard Active Duty (n=40,558) 1.2%</td>\n",
       "      <td>Coast Guard Active Duty</td>\n",
       "      <td>40558</td>\n",
       "      <td>0.012</td>\n",
       "      <td>0.011636</td>\n",
       "    </tr>\n",
       "    <tr>\n",
       "      <th>4</th>\n",
       "      <td>Total</td>\n",
       "      <td>NaN</td>\n",
       "      <td>3485518</td>\n",
       "      <td>1.000</td>\n",
       "      <td>1.000000</td>\n",
       "    </tr>\n",
       "  </tbody>\n",
       "</table>\n",
       "</div>"
      ],
      "text/plain": [
       "                Total_Force_Components_2020                Component   Number  \\\n",
       "0       DoD Active Duty (n=1,333,822) 38.2%          DoD Active Duty  1333822   \n",
       "1    Reserve Components (n=1,212,557) 34.8%       Reserve Components  1212557   \n",
       "2  DoD Civilian Personnel (n=898,581) 25.8%   DoD Civilian Personnel   898581   \n",
       "3   Coast Guard Active Duty (n=40,558) 1.2%  Coast Guard Active Duty    40558   \n",
       "4                                     Total                      NaN  3485518   \n",
       "\n",
       "   Percent  Percent_P  \n",
       "0    0.382   0.382675  \n",
       "1    0.348   0.347884  \n",
       "2    0.258   0.257804  \n",
       "3    0.012   0.011636  \n",
       "4    1.000   1.000000  "
      ]
     },
     "execution_count": 18,
     "metadata": {},
     "output_type": "execute_result"
    }
   ],
   "source": [
    "df"
   ]
  },
  {
   "cell_type": "code",
   "execution_count": 19,
   "id": "646434c8-aff5-4030-aba5-ddfb59e1d7bb",
   "metadata": {},
   "outputs": [
    {
     "data": {
      "text/plain": [
       "0     38.2\n",
       "1     34.8\n",
       "2     25.8\n",
       "3      1.2\n",
       "4    100.0\n",
       "Name: Percent, dtype: float64"
      ]
     },
     "execution_count": 19,
     "metadata": {},
     "output_type": "execute_result"
    }
   ],
   "source": [
    "round((df.Percent*100),1)"
   ]
  },
  {
   "cell_type": "code",
   "execution_count": 20,
   "id": "f4700824-3d3a-4f64-972f-b5c0f916fabb",
   "metadata": {},
   "outputs": [],
   "source": [
    "df['Percent_F'] = round((df.Percent*100),1)"
   ]
  },
  {
   "cell_type": "code",
   "execution_count": 21,
   "id": "3d5e8ec6-527c-4d52-a1e5-33866ca65a86",
   "metadata": {},
   "outputs": [
    {
     "data": {
      "text/html": [
       "<div>\n",
       "<style scoped>\n",
       "    .dataframe tbody tr th:only-of-type {\n",
       "        vertical-align: middle;\n",
       "    }\n",
       "\n",
       "    .dataframe tbody tr th {\n",
       "        vertical-align: top;\n",
       "    }\n",
       "\n",
       "    .dataframe thead th {\n",
       "        text-align: right;\n",
       "    }\n",
       "</style>\n",
       "<table border=\"1\" class=\"dataframe\">\n",
       "  <thead>\n",
       "    <tr style=\"text-align: right;\">\n",
       "      <th></th>\n",
       "      <th>Total_Force_Components_2020</th>\n",
       "      <th>Component</th>\n",
       "      <th>Number</th>\n",
       "      <th>Percent</th>\n",
       "      <th>Percent_P</th>\n",
       "      <th>Percent_F</th>\n",
       "    </tr>\n",
       "  </thead>\n",
       "  <tbody>\n",
       "    <tr>\n",
       "      <th>0</th>\n",
       "      <td>DoD Active Duty (n=1,333,822) 38.2%</td>\n",
       "      <td>DoD Active Duty</td>\n",
       "      <td>1333822</td>\n",
       "      <td>0.382</td>\n",
       "      <td>0.382675</td>\n",
       "      <td>38.2</td>\n",
       "    </tr>\n",
       "    <tr>\n",
       "      <th>1</th>\n",
       "      <td>Reserve Components (n=1,212,557) 34.8%</td>\n",
       "      <td>Reserve Components</td>\n",
       "      <td>1212557</td>\n",
       "      <td>0.348</td>\n",
       "      <td>0.347884</td>\n",
       "      <td>34.8</td>\n",
       "    </tr>\n",
       "    <tr>\n",
       "      <th>2</th>\n",
       "      <td>DoD Civilian Personnel (n=898,581) 25.8%</td>\n",
       "      <td>DoD Civilian Personnel</td>\n",
       "      <td>898581</td>\n",
       "      <td>0.258</td>\n",
       "      <td>0.257804</td>\n",
       "      <td>25.8</td>\n",
       "    </tr>\n",
       "    <tr>\n",
       "      <th>3</th>\n",
       "      <td>Coast Guard Active Duty (n=40,558) 1.2%</td>\n",
       "      <td>Coast Guard Active Duty</td>\n",
       "      <td>40558</td>\n",
       "      <td>0.012</td>\n",
       "      <td>0.011636</td>\n",
       "      <td>1.2</td>\n",
       "    </tr>\n",
       "    <tr>\n",
       "      <th>4</th>\n",
       "      <td>Total</td>\n",
       "      <td>NaN</td>\n",
       "      <td>3485518</td>\n",
       "      <td>1.000</td>\n",
       "      <td>1.000000</td>\n",
       "      <td>100.0</td>\n",
       "    </tr>\n",
       "  </tbody>\n",
       "</table>\n",
       "</div>"
      ],
      "text/plain": [
       "                Total_Force_Components_2020                Component   Number  \\\n",
       "0       DoD Active Duty (n=1,333,822) 38.2%          DoD Active Duty  1333822   \n",
       "1    Reserve Components (n=1,212,557) 34.8%       Reserve Components  1212557   \n",
       "2  DoD Civilian Personnel (n=898,581) 25.8%   DoD Civilian Personnel   898581   \n",
       "3   Coast Guard Active Duty (n=40,558) 1.2%  Coast Guard Active Duty    40558   \n",
       "4                                     Total                      NaN  3485518   \n",
       "\n",
       "   Percent  Percent_P  Percent_F  \n",
       "0    0.382   0.382675       38.2  \n",
       "1    0.348   0.347884       34.8  \n",
       "2    0.258   0.257804       25.8  \n",
       "3    0.012   0.011636        1.2  \n",
       "4    1.000   1.000000      100.0  "
      ]
     },
     "execution_count": 21,
     "metadata": {},
     "output_type": "execute_result"
    }
   ],
   "source": [
    "df"
   ]
  },
  {
   "cell_type": "code",
   "execution_count": null,
   "id": "62690460-7777-44e1-b035-5594ffbe296c",
   "metadata": {},
   "outputs": [],
   "source": []
  },
  {
   "cell_type": "code",
   "execution_count": null,
   "id": "8e17d758-298f-427d-85e9-23aa2135cab3",
   "metadata": {},
   "outputs": [],
   "source": []
  },
  {
   "cell_type": "code",
   "execution_count": 32,
   "id": "53d04468-f958-4a1e-a691-54fa3adafb23",
   "metadata": {},
   "outputs": [
    {
     "data": {
      "image/png": "[encoded data removed]",
      "text/plain": [
       "<Figure size 600x600 with 1 Axes>"
      ]
     },
     "metadata": {},
     "output_type": "display_data"
    }
   ],
   "source": [
    "Total_Force_Components_2020 = ['DoD Active Duty (1,333,822) 38.2%', 'Reserve Components (1,212,557) 34.8%', 'DoD Civilian Personnel (898,581) 25.8%', 'Coast Guard Active Duty (40,558) 1.2%']\n",
    "Percent_F = [38.2, 34.8, 25.8, 1.2]\n",
    "colors = ['#708063', '#8D9389', '#68B924', '#EFA513']\n",
    "plt.figure(figsize=(6,6))\n",
    "myexplode = [0.05, 0, 0, 0]\n",
    "plt.pie(Percent_F, labels=Total_Force_Components_2020, explode = myexplode, startangle=0, colors=colors)\n",
    "plt.title('US Total Force Breakdown 2020')\n",
    "plt.axis('equal')\n",
    "plt.show()"
   ]
  },
  {
   "cell_type": "code",
   "execution_count": null,
   "id": "a79ed0c8-662a-4dce-9720-cead232b1857",
   "metadata": {},
   "outputs": [],
   "source": []
  },
  {
   "cell_type": "code",
   "execution_count": 34,
   "id": "30cd7c3a-923e-49ff-9185-340c9cff61a6",
   "metadata": {},
   "outputs": [],
   "source": [
    "df1 = pd.read_excel('../data/AD Force Strength 2020.xlsx')"
   ]
  },
  {
   "cell_type": "code",
   "execution_count": 35,
   "id": "cb05919f-3fa0-4cbd-b2e0-bab4c734af85",
   "metadata": {},
   "outputs": [
    {
     "data": {
      "text/html": [
       "<div>\n",
       "<style scoped>\n",
       "    .dataframe tbody tr th:only-of-type {\n",
       "        vertical-align: middle;\n",
       "    }\n",
       "\n",
       "    .dataframe tbody tr th {\n",
       "        vertical-align: top;\n",
       "    }\n",
       "\n",
       "    .dataframe thead th {\n",
       "        text-align: right;\n",
       "    }\n",
       "</style>\n",
       "<table border=\"1\" class=\"dataframe\">\n",
       "  <thead>\n",
       "    <tr style=\"text-align: right;\">\n",
       "      <th></th>\n",
       "      <th>Active_Duty_Force_Breakdown_2020</th>\n",
       "      <th>Number</th>\n",
       "      <th>Percent</th>\n",
       "    </tr>\n",
       "  </thead>\n",
       "  <tbody>\n",
       "    <tr>\n",
       "      <th>0</th>\n",
       "      <td>Enlisted</td>\n",
       "      <td>1099188</td>\n",
       "      <td>0.824089</td>\n",
       "    </tr>\n",
       "    <tr>\n",
       "      <th>1</th>\n",
       "      <td>Officer</td>\n",
       "      <td>216223</td>\n",
       "      <td>0.162108</td>\n",
       "    </tr>\n",
       "    <tr>\n",
       "      <th>2</th>\n",
       "      <td>Warrant Officer</td>\n",
       "      <td>18411</td>\n",
       "      <td>0.013803</td>\n",
       "    </tr>\n",
       "    <tr>\n",
       "      <th>3</th>\n",
       "      <td>NaN</td>\n",
       "      <td>1333822</td>\n",
       "      <td>1.000000</td>\n",
       "    </tr>\n",
       "  </tbody>\n",
       "</table>\n",
       "</div>"
      ],
      "text/plain": [
       "  Active_Duty_Force_Breakdown_2020   Number   Percent\n",
       "0                         Enlisted  1099188  0.824089\n",
       "1                          Officer   216223  0.162108\n",
       "2                  Warrant Officer    18411  0.013803\n",
       "3                              NaN  1333822  1.000000"
      ]
     },
     "execution_count": 35,
     "metadata": {},
     "output_type": "execute_result"
    }
   ],
   "source": [
    "df1"
   ]
  },
  {
   "cell_type": "code",
   "execution_count": 37,
   "id": "43ef133d-9b2e-4c57-8d98-f6bd33efb5d1",
   "metadata": {},
   "outputs": [
    {
     "data": {
      "text/plain": [
       "0     82.4\n",
       "1     16.2\n",
       "2      1.4\n",
       "3    100.0\n",
       "Name: Percent, dtype: float64"
      ]
     },
     "execution_count": 37,
     "metadata": {},
     "output_type": "execute_result"
    }
   ],
   "source": [
    "round((df1.Percent*100),1)"
   ]
  },
  {
   "cell_type": "code",
   "execution_count": 38,
   "id": "231bb7c1-7fc2-4190-ad95-7d9b9ed030d3",
   "metadata": {},
   "outputs": [],
   "source": [
    "df1['Percent_F'] = round((df1.Percent*100),1)"
   ]
  },
  {
   "cell_type": "code",
   "execution_count": 39,
   "id": "3d8e6ad1-fe30-4c3d-8ac3-452677d18461",
   "metadata": {},
   "outputs": [
    {
     "data": {
      "text/html": [
       "<div>\n",
       "<style scoped>\n",
       "    .dataframe tbody tr th:only-of-type {\n",
       "        vertical-align: middle;\n",
       "    }\n",
       "\n",
       "    .dataframe tbody tr th {\n",
       "        vertical-align: top;\n",
       "    }\n",
       "\n",
       "    .dataframe thead th {\n",
       "        text-align: right;\n",
       "    }\n",
       "</style>\n",
       "<table border=\"1\" class=\"dataframe\">\n",
       "  <thead>\n",
       "    <tr style=\"text-align: right;\">\n",
       "      <th></th>\n",
       "      <th>Active_Duty_Force_Breakdown_2020</th>\n",
       "      <th>Number</th>\n",
       "      <th>Percent</th>\n",
       "      <th>Percent_F</th>\n",
       "    </tr>\n",
       "  </thead>\n",
       "  <tbody>\n",
       "    <tr>\n",
       "      <th>0</th>\n",
       "      <td>Enlisted</td>\n",
       "      <td>1099188</td>\n",
       "      <td>0.824089</td>\n",
       "      <td>82.4</td>\n",
       "    </tr>\n",
       "    <tr>\n",
       "      <th>1</th>\n",
       "      <td>Officer</td>\n",
       "      <td>216223</td>\n",
       "      <td>0.162108</td>\n",
       "      <td>16.2</td>\n",
       "    </tr>\n",
       "    <tr>\n",
       "      <th>2</th>\n",
       "      <td>Warrant Officer</td>\n",
       "      <td>18411</td>\n",
       "      <td>0.013803</td>\n",
       "      <td>1.4</td>\n",
       "    </tr>\n",
       "    <tr>\n",
       "      <th>3</th>\n",
       "      <td>NaN</td>\n",
       "      <td>1333822</td>\n",
       "      <td>1.000000</td>\n",
       "      <td>100.0</td>\n",
       "    </tr>\n",
       "  </tbody>\n",
       "</table>\n",
       "</div>"
      ],
      "text/plain": [
       "  Active_Duty_Force_Breakdown_2020   Number   Percent  Percent_F\n",
       "0                         Enlisted  1099188  0.824089       82.4\n",
       "1                          Officer   216223  0.162108       16.2\n",
       "2                  Warrant Officer    18411  0.013803        1.4\n",
       "3                              NaN  1333822  1.000000      100.0"
      ]
     },
     "execution_count": 39,
     "metadata": {},
     "output_type": "execute_result"
    }
   ],
   "source": [
    "df1"
   ]
  },
  {
   "cell_type": "code",
   "execution_count": 43,
   "id": "add594c2-fcdd-4d18-a35d-6d0110fbccb4",
   "metadata": {},
   "outputs": [
    {
     "data": {
      "image/png": "[encoded data removed]",
      "text/plain": [
       "<Figure size 600x600 with 1 Axes>"
      ]
     },
     "metadata": {},
     "output_type": "display_data"
    }
   ],
   "source": [
    "Active_Duty_Force_Breakdown_2020 = ['Enlisted (1,099,188) 82.4%', 'Officer (216,233) 16.2%', 'Warrant Officer (18,411) 1.4%']\n",
    "Percent_F = [82.4, 16.2, 1.4]\n",
    "colors = ['#708063', '#8D9389', '#68B924']\n",
    "plt.figure(figsize=(6,6))\n",
    "myexplode = [0.1, 0, 0]\n",
    "plt.pie(Percent_F, labels=Active_Duty_Force_Breakdown_2020, explode = myexplode, startangle=0, colors=colors)\n",
    "plt.title('US Active Duty Force Breakdown 2020')\n",
    "plt.axis('equal')\n",
    "plt.show()"
   ]
  },
  {
   "cell_type": "code",
   "execution_count": null,
   "id": "b9aeec1a-f52d-4b17-b61c-c291d6f8f652",
   "metadata": {},
   "outputs": [],
   "source": []
  },
  {
   "cell_type": "code",
   "execution_count": null,
   "id": "ceb7901e-6947-42e3-b513-52291d0c0271",
   "metadata": {},
   "outputs": [],
   "source": []
  },
  {
   "cell_type": "code",
   "execution_count": null,
   "id": "23247462-3ebb-443b-bddd-4b5811cbce82",
   "metadata": {},
   "outputs": [],
   "source": []
  },
  {
   "cell_type": "code",
   "execution_count": null,
   "id": "6f304bd6-08ea-48da-8553-d26e1facd48b",
   "metadata": {},
   "outputs": [],
   "source": []
  },
  {
   "cell_type": "code",
   "execution_count": null,
   "id": "43e1e1f8-8d6b-4207-93f2-6fb03a13d1a7",
   "metadata": {},
   "outputs": [],
   "source": []
  },
  {
   "cell_type": "code",
   "execution_count": null,
   "id": "49932bd4-4720-426a-8ece-99b922faa516",
   "metadata": {},
   "outputs": [],
   "source": []
  },
  {
   "cell_type": "code",
   "execution_count": null,
   "id": "9bcb15c7-7f0a-42b4-8198-1bdda7e09006",
   "metadata": {},
   "outputs": [],
   "source": []
  },
  {
   "cell_type": "code",
   "execution_count": null,
   "id": "438aa794-74e4-429e-a96d-5b19d1ca71e5",
   "metadata": {},
   "outputs": [],
   "source": []
  },
  {
   "cell_type": "code",
   "execution_count": null,
   "id": "88d57fea-120f-4521-9774-64ab6b2bba89",
   "metadata": {},
   "outputs": [],
   "source": []
  },
  {
   "cell_type": "code",
   "execution_count": null,
   "id": "a267c734-63e0-4415-b653-4f52ccc7cd3b",
   "metadata": {},
   "outputs": [],
   "source": [
    "#The DoD Active Duty force is comprised of 82.4 percent enlisted personnel (1,099,188) and 17.6 percent officers (234,634)."
   ]
  },
  {
   "cell_type": "code",
   "execution_count": null,
   "id": "213e0605-b068-4c57-9727-cf3f2ac8342c",
   "metadata": {},
   "outputs": [],
   "source": []
  },
  {
   "cell_type": "code",
   "execution_count": null,
   "id": "01b40697-c563-4fcc-bc97-ecbf91d7fecd",
   "metadata": {},
   "outputs": [],
   "source": []
  },
  {
   "cell_type": "code",
   "execution_count": null,
   "id": "87768090-43d6-4853-955b-d9a403ec2204",
   "metadata": {},
   "outputs": [],
   "source": []
  },
  {
   "cell_type": "code",
   "execution_count": null,
   "id": "3939065a-a242-4cec-b928-1584fdb3531d",
   "metadata": {},
   "outputs": [],
   "source": []
  },
  {
   "cell_type": "code",
   "execution_count": null,
   "id": "44478c56-cccf-42dd-a6f3-ac5b2b75d73d",
   "metadata": {},
   "outputs": [],
   "source": []
  },
  {
   "cell_type": "code",
   "execution_count": null,
   "id": "3668ce5d-cac8-4606-b025-d1c7f4ff7c39",
   "metadata": {},
   "outputs": [],
   "source": []
  },
  {
   "cell_type": "code",
   "execution_count": null,
   "id": "ce5d0ab9-e15a-4dbf-bf83-fec3d495eb04",
   "metadata": {},
   "outputs": [],
   "source": []
  },
  {
   "cell_type": "code",
   "execution_count": null,
   "id": "08c8f562-ca6b-4207-8424-c11130253ee8",
   "metadata": {},
   "outputs": [],
   "source": []
  },
  {
   "cell_type": "code",
   "execution_count": null,
   "id": "b1ea9d0b-572d-41c6-951f-e2a3d62896fc",
   "metadata": {},
   "outputs": [],
   "source": []
  },
  {
   "cell_type": "code",
   "execution_count": null,
   "id": "1897aa95-045f-4176-b4f4-ab2842fd0caa",
   "metadata": {},
   "outputs": [],
   "source": []
  },
  {
   "cell_type": "code",
   "execution_count": null,
   "id": "99fac28f-b108-4ec2-93ab-98283bcf6911",
   "metadata": {},
   "outputs": [],
   "source": []
  },
  {
   "cell_type": "code",
   "execution_count": null,
   "id": "835c2c13-52ee-476a-b9d2-5872ee0c905a",
   "metadata": {},
   "outputs": [],
   "source": []
  },
  {
   "cell_type": "code",
   "execution_count": null,
   "id": "cc17c58c-5c35-4599-8cdc-b677f68c2531",
   "metadata": {},
   "outputs": [],
   "source": []
  },
  {
   "cell_type": "code",
   "execution_count": null,
   "id": "398466a4-f8b9-4053-a034-f27465f2e13b",
   "metadata": {},
   "outputs": [],
   "source": []
  },
  {
   "cell_type": "code",
   "execution_count": null,
   "id": "e59f727f-17bb-4626-9ea7-cdd02b51fbe7",
   "metadata": {},
   "outputs": [],
   "source": []
  }
 ],
 "metadata": {
  "kernelspec": {
   "display_name": "Python 3 (ipykernel)",
   "language": "python",
   "name": "python3"
  },
  "language_info": {
   "codemirror_mode": {
    "name": "ipython",
    "version": 3
   },
   "file_extension": ".py",
   "mimetype": "text/x-python",
   "name": "python",
   "nbconvert_exporter": "python",
   "pygments_lexer": "ipython3",
   "version": "3.12.4"
  }
 },
 "nbformat": 4,
 "nbformat_minor": 5
}
