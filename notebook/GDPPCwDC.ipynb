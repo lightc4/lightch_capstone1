{
 "cells": [
  {
   "cell_type": "markdown",
   "id": "1184474f-ef03-45d2-b3d7-95953df0891e",
   "metadata": {},
   "source": [
    "Is GPPPC related to ENACC?\n",
    "This notebook contains Washington DC data in the data set"
   ]
  },
  {
   "cell_type": "code",
   "execution_count": 2,
   "id": "d656cac2-4278-4d41-8d50-5db29328c458",
   "metadata": {},
   "outputs": [],
   "source": [
    "import pandas as pd\n",
    "import numpy as np\n",
    "import re\n",
    "import matplotlib.pyplot as plt\n",
    "import plotly\n",
    "import plotly.express as px\n",
    "import seaborn as sns\n",
    "\n",
    "%matplotlib inline"
   ]
  },
  {
   "cell_type": "code",
   "execution_count": 3,
   "id": "4e6ca562-5970-4db5-8ebf-a58e517bfe18",
   "metadata": {},
   "outputs": [
    {
     "data": {
      "text/html": [
       "<div>\n",
       "<style scoped>\n",
       "    .dataframe tbody tr th:only-of-type {\n",
       "        vertical-align: middle;\n",
       "    }\n",
       "\n",
       "    .dataframe tbody tr th {\n",
       "        vertical-align: top;\n",
       "    }\n",
       "\n",
       "    .dataframe thead th {\n",
       "        text-align: right;\n",
       "    }\n",
       "</style>\n",
       "<table border=\"1\" class=\"dataframe\">\n",
       "  <thead>\n",
       "    <tr style=\"text-align: right;\">\n",
       "      <th></th>\n",
       "      <th>STATE</th>\n",
       "      <th>ST_AB</th>\n",
       "      <th>YEAR</th>\n",
       "      <th>GDP</th>\n",
       "      <th>POP_EST</th>\n",
       "      <th>GDPPC</th>\n",
       "      <th>DoD_TOT_ENACC</th>\n",
       "      <th>DoD_TOT_ENACC_PER</th>\n",
       "    </tr>\n",
       "  </thead>\n",
       "  <tbody>\n",
       "    <tr>\n",
       "      <th>0</th>\n",
       "      <td>Alabama</td>\n",
       "      <td>AL</td>\n",
       "      <td>2010</td>\n",
       "      <td>1.772492e+11</td>\n",
       "      <td>4785514</td>\n",
       "      <td>37038.696366</td>\n",
       "      <td>3029</td>\n",
       "      <td>1.90</td>\n",
       "    </tr>\n",
       "    <tr>\n",
       "      <th>1</th>\n",
       "      <td>Alaska</td>\n",
       "      <td>AK</td>\n",
       "      <td>2010</td>\n",
       "      <td>5.333160e+10</td>\n",
       "      <td>713982</td>\n",
       "      <td>74696.000740</td>\n",
       "      <td>412</td>\n",
       "      <td>0.26</td>\n",
       "    </tr>\n",
       "    <tr>\n",
       "      <th>2</th>\n",
       "      <td>Arizona</td>\n",
       "      <td>AZ</td>\n",
       "      <td>2010</td>\n",
       "      <td>2.511530e+11</td>\n",
       "      <td>6407342</td>\n",
       "      <td>39197.689151</td>\n",
       "      <td>3840</td>\n",
       "      <td>2.50</td>\n",
       "    </tr>\n",
       "    <tr>\n",
       "      <th>3</th>\n",
       "      <td>Arkansas</td>\n",
       "      <td>AR</td>\n",
       "      <td>2010</td>\n",
       "      <td>1.014865e+11</td>\n",
       "      <td>2921998</td>\n",
       "      <td>34731.885511</td>\n",
       "      <td>1522</td>\n",
       "      <td>1.00</td>\n",
       "    </tr>\n",
       "    <tr>\n",
       "      <th>4</th>\n",
       "      <td>California</td>\n",
       "      <td>CA</td>\n",
       "      <td>2010</td>\n",
       "      <td>1.954093e+12</td>\n",
       "      <td>37319550</td>\n",
       "      <td>52361.100281</td>\n",
       "      <td>17386</td>\n",
       "      <td>11.10</td>\n",
       "    </tr>\n",
       "    <tr>\n",
       "      <th>5</th>\n",
       "      <td>Colorado</td>\n",
       "      <td>CO</td>\n",
       "      <td>2010</td>\n",
       "      <td>2.583002e+11</td>\n",
       "      <td>5047539</td>\n",
       "      <td>51173.492666</td>\n",
       "      <td>2961</td>\n",
       "      <td>1.90</td>\n",
       "    </tr>\n",
       "    <tr>\n",
       "      <th>6</th>\n",
       "      <td>Connecticut</td>\n",
       "      <td>CT</td>\n",
       "      <td>2010</td>\n",
       "      <td>2.347000e+11</td>\n",
       "      <td>3579173</td>\n",
       "      <td>65573.807134</td>\n",
       "      <td>1174</td>\n",
       "      <td>0.75</td>\n",
       "    </tr>\n",
       "    <tr>\n",
       "      <th>7</th>\n",
       "      <td>Delaware</td>\n",
       "      <td>DE</td>\n",
       "      <td>2010</td>\n",
       "      <td>5.816350e+10</td>\n",
       "      <td>899647</td>\n",
       "      <td>64651.468854</td>\n",
       "      <td>381</td>\n",
       "      <td>0.24</td>\n",
       "    </tr>\n",
       "    <tr>\n",
       "      <th>8</th>\n",
       "      <td>District of Columbia</td>\n",
       "      <td>DC</td>\n",
       "      <td>2010</td>\n",
       "      <td>1.061469e+11</td>\n",
       "      <td>605282</td>\n",
       "      <td>175367.679858</td>\n",
       "      <td>102</td>\n",
       "      <td>0.07</td>\n",
       "    </tr>\n",
       "  </tbody>\n",
       "</table>\n",
       "</div>"
      ],
      "text/plain": [
       "                  STATE ST_AB  YEAR           GDP   POP_EST          GDPPC  \\\n",
       "0               Alabama    AL  2010  1.772492e+11   4785514   37038.696366   \n",
       "1                Alaska    AK  2010  5.333160e+10    713982   74696.000740   \n",
       "2               Arizona    AZ  2010  2.511530e+11   6407342   39197.689151   \n",
       "3              Arkansas    AR  2010  1.014865e+11   2921998   34731.885511   \n",
       "4            California    CA  2010  1.954093e+12  37319550   52361.100281   \n",
       "5              Colorado    CO  2010  2.583002e+11   5047539   51173.492666   \n",
       "6           Connecticut    CT  2010  2.347000e+11   3579173   65573.807134   \n",
       "7              Delaware    DE  2010  5.816350e+10    899647   64651.468854   \n",
       "8  District of Columbia    DC  2010  1.061469e+11    605282  175367.679858   \n",
       "\n",
       "   DoD_TOT_ENACC  DoD_TOT_ENACC_PER  \n",
       "0           3029               1.90  \n",
       "1            412               0.26  \n",
       "2           3840               2.50  \n",
       "3           1522               1.00  \n",
       "4          17386              11.10  \n",
       "5           2961               1.90  \n",
       "6           1174               0.75  \n",
       "7            381               0.24  \n",
       "8            102               0.07  "
      ]
     },
     "execution_count": 3,
     "metadata": {},
     "output_type": "execute_result"
    }
   ],
   "source": [
    "df = pd.read_excel('../data/GDPPC_ENACC_ state_total_10_20.xlsx')\n",
    "df.head(9)"
   ]
  },
  {
   "cell_type": "code",
   "execution_count": 4,
   "id": "2181f986-358a-4021-8d0a-0288f1128fd7",
   "metadata": {},
   "outputs": [
    {
     "name": "stdout",
     "output_type": "stream",
     "text": [
      "<class 'pandas.core.frame.DataFrame'>\n",
      "RangeIndex: 561 entries, 0 to 560\n",
      "Data columns (total 8 columns):\n",
      " #   Column             Non-Null Count  Dtype  \n",
      "---  ------             --------------  -----  \n",
      " 0   STATE              561 non-null    object \n",
      " 1   ST_AB              561 non-null    object \n",
      " 2   YEAR               561 non-null    int64  \n",
      " 3   GDP                561 non-null    float64\n",
      " 4   POP_EST            561 non-null    int64  \n",
      " 5   GDPPC              561 non-null    float64\n",
      " 6   DoD_TOT_ENACC      561 non-null    int64  \n",
      " 7   DoD_TOT_ENACC_PER  561 non-null    float64\n",
      "dtypes: float64(3), int64(3), object(2)\n",
      "memory usage: 35.2+ KB\n"
     ]
    }
   ],
   "source": [
    "df.info()"
   ]
  },
  {
   "cell_type": "markdown",
   "id": "4cbb852a-2712-4d8a-a7e4-b429cfe41a85",
   "metadata": {},
   "source": [
    "Calculations are on the US 2010-2020"
   ]
  },
  {
   "cell_type": "code",
   "execution_count": 6,
   "id": "0b17d649-520a-464f-a589-110a3f594fb3",
   "metadata": {},
   "outputs": [
    {
     "data": {
      "text/html": [
       "<div>\n",
       "<style scoped>\n",
       "    .dataframe tbody tr th:only-of-type {\n",
       "        vertical-align: middle;\n",
       "    }\n",
       "\n",
       "    .dataframe tbody tr th {\n",
       "        vertical-align: top;\n",
       "    }\n",
       "\n",
       "    .dataframe thead th {\n",
       "        text-align: right;\n",
       "    }\n",
       "</style>\n",
       "<table border=\"1\" class=\"dataframe\">\n",
       "  <thead>\n",
       "    <tr style=\"text-align: right;\">\n",
       "      <th></th>\n",
       "      <th>YEAR</th>\n",
       "      <th>GDP</th>\n",
       "      <th>POP_EST</th>\n",
       "      <th>GDPPC</th>\n",
       "      <th>DoD_TOT_ENACC</th>\n",
       "      <th>DoD_TOT_ENACC_PER</th>\n",
       "    </tr>\n",
       "  </thead>\n",
       "  <tbody>\n",
       "    <tr>\n",
       "      <th>count</th>\n",
       "      <td>561.0000</td>\n",
       "      <td>5.610000e+02</td>\n",
       "      <td>5.610000e+02</td>\n",
       "      <td>561.000000</td>\n",
       "      <td>561.000000</td>\n",
       "      <td>561.000000</td>\n",
       "    </tr>\n",
       "    <tr>\n",
       "      <th>mean</th>\n",
       "      <td>2015.0000</td>\n",
       "      <td>3.553919e+11</td>\n",
       "      <td>6.279536e+06</td>\n",
       "      <td>56863.848427</td>\n",
       "      <td>2991.819964</td>\n",
       "      <td>1.961176</td>\n",
       "    </tr>\n",
       "    <tr>\n",
       "      <th>std</th>\n",
       "      <td>3.1651</td>\n",
       "      <td>4.488416e+11</td>\n",
       "      <td>7.083345e+06</td>\n",
       "      <td>21520.375207</td>\n",
       "      <td>3634.533458</td>\n",
       "      <td>2.373835</td>\n",
       "    </tr>\n",
       "    <tr>\n",
       "      <th>min</th>\n",
       "      <td>2010.0000</td>\n",
       "      <td>2.740660e+10</td>\n",
       "      <td>5.645310e+05</td>\n",
       "      <td>31624.124971</td>\n",
       "      <td>69.000000</td>\n",
       "      <td>0.050000</td>\n",
       "    </tr>\n",
       "    <tr>\n",
       "      <th>25%</th>\n",
       "      <td>2012.0000</td>\n",
       "      <td>8.721740e+10</td>\n",
       "      <td>1.752074e+06</td>\n",
       "      <td>46053.373212</td>\n",
       "      <td>818.000000</td>\n",
       "      <td>0.540000</td>\n",
       "    </tr>\n",
       "    <tr>\n",
       "      <th>50%</th>\n",
       "      <td>2015.0000</td>\n",
       "      <td>2.085586e+11</td>\n",
       "      <td>4.429126e+06</td>\n",
       "      <td>53214.380252</td>\n",
       "      <td>1913.000000</td>\n",
       "      <td>1.260000</td>\n",
       "    </tr>\n",
       "    <tr>\n",
       "      <th>75%</th>\n",
       "      <td>2018.0000</td>\n",
       "      <td>4.317227e+11</td>\n",
       "      <td>7.164228e+06</td>\n",
       "      <td>62156.014299</td>\n",
       "      <td>3428.000000</td>\n",
       "      <td>2.240000</td>\n",
       "    </tr>\n",
       "    <tr>\n",
       "      <th>max</th>\n",
       "      <td>2020.0000</td>\n",
       "      <td>3.042694e+12</td>\n",
       "      <td>3.943761e+07</td>\n",
       "      <td>203304.186498</td>\n",
       "      <td>20095.000000</td>\n",
       "      <td>12.490000</td>\n",
       "    </tr>\n",
       "  </tbody>\n",
       "</table>\n",
       "</div>"
      ],
      "text/plain": [
       "            YEAR           GDP       POP_EST          GDPPC  DoD_TOT_ENACC  \\\n",
       "count   561.0000  5.610000e+02  5.610000e+02     561.000000     561.000000   \n",
       "mean   2015.0000  3.553919e+11  6.279536e+06   56863.848427    2991.819964   \n",
       "std       3.1651  4.488416e+11  7.083345e+06   21520.375207    3634.533458   \n",
       "min    2010.0000  2.740660e+10  5.645310e+05   31624.124971      69.000000   \n",
       "25%    2012.0000  8.721740e+10  1.752074e+06   46053.373212     818.000000   \n",
       "50%    2015.0000  2.085586e+11  4.429126e+06   53214.380252    1913.000000   \n",
       "75%    2018.0000  4.317227e+11  7.164228e+06   62156.014299    3428.000000   \n",
       "max    2020.0000  3.042694e+12  3.943761e+07  203304.186498   20095.000000   \n",
       "\n",
       "       DoD_TOT_ENACC_PER  \n",
       "count         561.000000  \n",
       "mean            1.961176  \n",
       "std             2.373835  \n",
       "min             0.050000  \n",
       "25%             0.540000  \n",
       "50%             1.260000  \n",
       "75%             2.240000  \n",
       "max            12.490000  "
      ]
     },
     "execution_count": 6,
     "metadata": {},
     "output_type": "execute_result"
    }
   ],
   "source": [
    "df.describe()"
   ]
  },
  {
   "cell_type": "code",
   "execution_count": 12,
   "id": "b98bcb70-f833-4972-abd0-daa081b34d89",
   "metadata": {},
   "outputs": [
    {
     "data": {
      "image/png": "[encoded data removed]",
      "text/plain": [
       "<Figure size 640x480 with 1 Axes>"
      ]
     },
     "metadata": {},
     "output_type": "display_data"
    }
   ],
   "source": [
    "sns.boxplot(x=df['YEAR'], y=df['GDPPC']);\n",
    "plt.xlabel('Year')\n",
    "plt.ylabel('GDP Per Capita($)')\n",
    "plt.title('GDP Per Capita 2010-2020');"
   ]
  },
  {
   "cell_type": "code",
   "execution_count": null,
   "id": "ca74bcdb-f4bb-4395-9371-1a4d6f660672",
   "metadata": {},
   "outputs": [],
   "source": []
  },
  {
   "cell_type": "code",
   "execution_count": 14,
   "id": "09d6668c-45dd-4c07-9a0e-677f084f559c",
   "metadata": {},
   "outputs": [
    {
     "data": {
      "image/png": "[encoded data removed]",
      "text/plain": [
       "<Figure size 640x480 with 1 Axes>"
      ]
     },
     "metadata": {},
     "output_type": "display_data"
    }
   ],
   "source": [
    "sns.regplot(x='GDPPC', y='DoD_TOT_ENACC_PER', data=df, scatter_kws={'s':5},  line_kws={'color':'red'})\n",
    "plt.title('Regression Plot GDP Per Capita and Enlisted Accessions 2010-2020')\n",
    "plt.xlabel('GDP Per Capita($)')\n",
    "plt.ylabel('Enlisted Accessions (%)')\n",
    "plt.show()\n",
    "#A scatterplot overlayed with the regression line highlights the potential predictive relationship,         \n",
    "#As the line better fits the data, the r-squared value of the regression output will get closer and closer to 1."
   ]
  },
  {
   "cell_type": "code",
   "execution_count": null,
   "id": "ed501421-8c18-4395-9eb3-c1b407ad3100",
   "metadata": {},
   "outputs": [],
   "source": []
  },
  {
   "cell_type": "code",
   "execution_count": 15,
   "id": "3acc0fbf-8979-4fc6-869c-4933de8bdc0a",
   "metadata": {},
   "outputs": [
    {
     "data": {
      "text/html": [
       "<div>\n",
       "<style scoped>\n",
       "    .dataframe tbody tr th:only-of-type {\n",
       "        vertical-align: middle;\n",
       "    }\n",
       "\n",
       "    .dataframe tbody tr th {\n",
       "        vertical-align: top;\n",
       "    }\n",
       "\n",
       "    .dataframe thead th {\n",
       "        text-align: right;\n",
       "    }\n",
       "</style>\n",
       "<table border=\"1\" class=\"dataframe\">\n",
       "  <thead>\n",
       "    <tr style=\"text-align: right;\">\n",
       "      <th></th>\n",
       "      <th>GDPPC</th>\n",
       "      <th>DoD_TOT_ENACC_PER</th>\n",
       "    </tr>\n",
       "  </thead>\n",
       "  <tbody>\n",
       "    <tr>\n",
       "      <th>0</th>\n",
       "      <td>37038.696366</td>\n",
       "      <td>1.90</td>\n",
       "    </tr>\n",
       "    <tr>\n",
       "      <th>1</th>\n",
       "      <td>74696.000740</td>\n",
       "      <td>0.26</td>\n",
       "    </tr>\n",
       "    <tr>\n",
       "      <th>2</th>\n",
       "      <td>39197.689151</td>\n",
       "      <td>2.50</td>\n",
       "    </tr>\n",
       "    <tr>\n",
       "      <th>3</th>\n",
       "      <td>34731.885511</td>\n",
       "      <td>1.00</td>\n",
       "    </tr>\n",
       "    <tr>\n",
       "      <th>4</th>\n",
       "      <td>52361.100281</td>\n",
       "      <td>11.10</td>\n",
       "    </tr>\n",
       "  </tbody>\n",
       "</table>\n",
       "</div>"
      ],
      "text/plain": [
       "          GDPPC  DoD_TOT_ENACC_PER\n",
       "0  37038.696366               1.90\n",
       "1  74696.000740               0.26\n",
       "2  39197.689151               2.50\n",
       "3  34731.885511               1.00\n",
       "4  52361.100281              11.10"
      ]
     },
     "execution_count": 15,
     "metadata": {},
     "output_type": "execute_result"
    }
   ],
   "source": [
    "df_gdppc_enacc = df[['GDPPC', 'DoD_TOT_ENACC_PER']]\n",
    "df_gdppc_enacc.head()"
   ]
  },
  {
   "cell_type": "code",
   "execution_count": 16,
   "id": "85c87a5f-a2f2-49d9-b5bb-7920da698de3",
   "metadata": {},
   "outputs": [
    {
     "data": {
      "image/png": "[encoded data removed]",
      "text/plain": [
       "<Figure size 640x480 with 2 Axes>"
      ]
     },
     "metadata": {},
     "output_type": "display_data"
    }
   ],
   "source": [
    "dataplot = sns.heatmap(df_gdppc_enacc.corr(numeric_only=True), cmap='coolwarm')\n",
    "plt.title('Correlation Matrix GDP Per Capita and Enlisted Accessions 2010-2020')\n",
    "plt.show()"
   ]
  },
  {
   "cell_type": "code",
   "execution_count": 19,
   "id": "0ed3212d-8d01-47e4-930c-b38927c7c81c",
   "metadata": {},
   "outputs": [
    {
     "name": "stdout",
     "output_type": "stream",
     "text": [
      "[[ 1.         -0.06185521]\n",
      " [-0.06185521  1.        ]]\n"
     ]
    }
   ],
   "source": [
    "matrix = np.corrcoef(x=df_gdppc_enacc['GDPPC'], y=df_gdppc_enacc['DoD_TOT_ENACC_PER'])\n",
    "print(matrix)"
   ]
  },
  {
   "cell_type": "markdown",
   "id": "756445c5-aa89-4846-9af5-3eb6a2359b3b",
   "metadata": {},
   "source": [
    "Go through each year, creating a box plt, bar plot, scatter plot and correlation matrix (w/DC)"
   ]
  },
  {
   "cell_type": "markdown",
   "id": "83ce7477-f00f-4b31-b81b-7c755fc4ddb1",
   "metadata": {},
   "source": [
    "2010 all states and DC"
   ]
  },
  {
   "cell_type": "code",
   "execution_count": 20,
   "id": "3a71da6c-1a6f-4a51-9658-0d9071b71914",
   "metadata": {},
   "outputs": [
    {
     "data": {
      "text/html": [
       "<div>\n",
       "<style scoped>\n",
       "    .dataframe tbody tr th:only-of-type {\n",
       "        vertical-align: middle;\n",
       "    }\n",
       "\n",
       "    .dataframe tbody tr th {\n",
       "        vertical-align: top;\n",
       "    }\n",
       "\n",
       "    .dataframe thead th {\n",
       "        text-align: right;\n",
       "    }\n",
       "</style>\n",
       "<table border=\"1\" class=\"dataframe\">\n",
       "  <thead>\n",
       "    <tr style=\"text-align: right;\">\n",
       "      <th></th>\n",
       "      <th>STATE</th>\n",
       "      <th>ST_AB</th>\n",
       "      <th>YEAR</th>\n",
       "      <th>GDP</th>\n",
       "      <th>POP_EST</th>\n",
       "      <th>GDPPC</th>\n",
       "      <th>DoD_TOT_ENACC</th>\n",
       "      <th>DoD_TOT_ENACC_PER</th>\n",
       "    </tr>\n",
       "  </thead>\n",
       "  <tbody>\n",
       "    <tr>\n",
       "      <th>0</th>\n",
       "      <td>Alabama</td>\n",
       "      <td>AL</td>\n",
       "      <td>2010</td>\n",
       "      <td>1.772492e+11</td>\n",
       "      <td>4785514</td>\n",
       "      <td>37038.696366</td>\n",
       "      <td>3029</td>\n",
       "      <td>1.90</td>\n",
       "    </tr>\n",
       "    <tr>\n",
       "      <th>1</th>\n",
       "      <td>Alaska</td>\n",
       "      <td>AK</td>\n",
       "      <td>2010</td>\n",
       "      <td>5.333160e+10</td>\n",
       "      <td>713982</td>\n",
       "      <td>74696.000740</td>\n",
       "      <td>412</td>\n",
       "      <td>0.26</td>\n",
       "    </tr>\n",
       "  </tbody>\n",
       "</table>\n",
       "</div>"
      ],
      "text/plain": [
       "     STATE ST_AB  YEAR           GDP  POP_EST         GDPPC  DoD_TOT_ENACC  \\\n",
       "0  Alabama    AL  2010  1.772492e+11  4785514  37038.696366           3029   \n",
       "1   Alaska    AK  2010  5.333160e+10   713982  74696.000740            412   \n",
       "\n",
       "   DoD_TOT_ENACC_PER  \n",
       "0               1.90  \n",
       "1               0.26  "
      ]
     },
     "execution_count": 20,
     "metadata": {},
     "output_type": "execute_result"
    }
   ],
   "source": [
    "df_2010 = df[df['YEAR'] == 2010]\n",
    "df_2010.head(2)"
   ]
  },
  {
   "cell_type": "code",
   "execution_count": null,
   "id": "9c4ff4ba-b45f-45e2-b8e1-1ba41a20658c",
   "metadata": {},
   "outputs": [],
   "source": [
    "df_2010.describe()"
   ]
  },
  {
   "cell_type": "code",
   "execution_count": null,
   "id": "b5bd4e3c-ca55-415d-8428-a538b2b807b4",
   "metadata": {},
   "outputs": [],
   "source": [
    "sns.boxplot(x=df_2010['YEAR'], y=df_2010['GDPPC']);\n",
    "plt.xlabel('Year')\n",
    "plt.ylabel('GDP Per Capita($)')\n",
    "plt.title('GDP Per Capita 2010');"
   ]
  },
  {
   "cell_type": "code",
   "execution_count": null,
   "id": "9d6fc3e7-2f49-46ef-bfa8-abec5fffd584",
   "metadata": {},
   "outputs": [],
   "source": []
  },
  {
   "cell_type": "code",
   "execution_count": null,
   "id": "015487fa-e370-4d33-aaba-9787bb01f835",
   "metadata": {},
   "outputs": [],
   "source": [
    "df_2010_gdppc_ordered = df_2010.sort_values('GDPPC', ascending=False)"
   ]
  },
  {
   "cell_type": "code",
   "execution_count": null,
   "id": "5ba4725e-bab5-48d9-bfda-ea1f73b283f7",
   "metadata": {},
   "outputs": [],
   "source": [
    "fig, ax = plt.subplots(figsize=(16, 6))\n",
    "df_2010_gdppc_ordered = df_2010.sort_values('GDPPC', ascending=False)\n",
    "sns.barplot(x='ST_AB', y='GDPPC', data=df_2010_gdppc_ordered, palette='coolwarm')\n",
    "ax.set_xlabel(ax.get_xlabel(), labelpad=30)\n",
    "ax.set_ylabel(ax.get_ylabel(), labelpad=30)\n",
    "ax.xaxis.label.set_fontsize(20)\n",
    "ax.yaxis.label.set_fontsize(20)\n",
    "plt.title('GDP Per Capita by US State 2010')\n",
    "plt.xticks(rotation = 45)   \n",
    "plt.show()"
   ]
  },
  {
   "cell_type": "code",
   "execution_count": null,
   "id": "c33cef67-b700-4948-b978-a1fd06953ebb",
   "metadata": {},
   "outputs": [],
   "source": [
    "sns.regplot(x='GDPPC', y='DoD_TOT_ENACC_PER', data=df_2010, scatter_kws={'s':5},  line_kws={'color':'red'})\n",
    "plt.title('Regression Plot GDP Per Capita and Enlisted Accessions 2010')\n",
    "plt.xlabel('GDP Per Capita($)')\n",
    "plt.ylabel('Enlisted Accessions (%)')\n",
    "plt.show()"
   ]
  },
  {
   "cell_type": "code",
   "execution_count": null,
   "id": "2eb38076-881f-4e84-80fd-1a5d65339724",
   "metadata": {},
   "outputs": [],
   "source": []
  },
  {
   "cell_type": "code",
   "execution_count": null,
   "id": "d525cd57-1df8-4763-9a96-8b3dc4587f6a",
   "metadata": {},
   "outputs": [],
   "source": [
    "df_2010_gdppc_enacc = df_2010[['GDPPC', 'DoD_TOT_ENACC_PER']]\n",
    "df_2010_gdppc_enacc.head(2)"
   ]
  },
  {
   "cell_type": "code",
   "execution_count": null,
   "id": "5849a222-9668-4612-abeb-48629943079c",
   "metadata": {},
   "outputs": [],
   "source": []
  },
  {
   "cell_type": "code",
   "execution_count": null,
   "id": "5b93b34f-97b3-4992-b7ba-de1f8fd10af7",
   "metadata": {},
   "outputs": [],
   "source": [
    "matrix = np.corrcoef(x=df_2010_gdppc_enacc['GDPPC'], y=df_2010_gdppc_enacc['DoD_TOT_ENACC_PER'])\n",
    "print(matrix)"
   ]
  },
  {
   "cell_type": "code",
   "execution_count": null,
   "id": "09f23b50-b3fc-4a0e-bc9a-4fd3f1369823",
   "metadata": {},
   "outputs": [],
   "source": []
  },
  {
   "cell_type": "markdown",
   "id": "3d9b422a-6316-46ff-9454-bbb26190d723",
   "metadata": {},
   "source": [
    "2011 all states and DC"
   ]
  },
  {
   "cell_type": "code",
   "execution_count": null,
   "id": "5d922f90-153d-4706-89fa-436da7f0dd8f",
   "metadata": {},
   "outputs": [],
   "source": [
    "df_2011 = df[df['YEAR'] == 2011]\n",
    "df_2011.head(2)"
   ]
  },
  {
   "cell_type": "code",
   "execution_count": null,
   "id": "3eba716b-8770-4810-bb28-59809356493a",
   "metadata": {},
   "outputs": [],
   "source": [
    "df_2011.describe()"
   ]
  },
  {
   "cell_type": "code",
   "execution_count": null,
   "id": "98a593c5-fdcf-4231-ad74-431a1b1fa4dd",
   "metadata": {},
   "outputs": [],
   "source": [
    "sns.boxplot(x=df_2011['YEAR'], y=df_2011['GDPPC']);\n",
    "plt.xlabel('Year')\n",
    "plt.ylabel('GDP Per Capita($)')\n",
    "plt.title('GDP Per Capita 2011');"
   ]
  },
  {
   "cell_type": "code",
   "execution_count": null,
   "id": "36e98b85-449e-4eca-b9e7-586242a31fa6",
   "metadata": {},
   "outputs": [],
   "source": []
  },
  {
   "cell_type": "code",
   "execution_count": null,
   "id": "48b272af-65f5-4074-860c-6d6726ef3ed9",
   "metadata": {},
   "outputs": [],
   "source": [
    "df_2011_gdppc_ordered = df_2011.sort_values('GDPPC', ascending=False)"
   ]
  },
  {
   "cell_type": "code",
   "execution_count": null,
   "id": "fb8d8c6e-ddb4-4ed2-94ed-0b8cfa060cb7",
   "metadata": {},
   "outputs": [],
   "source": [
    "fig, ax = plt.subplots(figsize=(16, 6))\n",
    "df_2011_gdppc_ordered = df_2011.sort_values('GDPPC', ascending=False)\n",
    "sns.barplot(x='ST_AB', y='GDPPC', data=df_2011_gdppc_ordered, palette='coolwarm')\n",
    "ax.set_xlabel(ax.get_xlabel(), labelpad=30)\n",
    "ax.set_ylabel(ax.get_ylabel(), labelpad=30)\n",
    "ax.xaxis.label.set_fontsize(20)\n",
    "ax.yaxis.label.set_fontsize(20)\n",
    "plt.title('GDP Per Capita by US State 2011')\n",
    "plt.xticks(rotation = 45)   \n",
    "plt.show()"
   ]
  },
  {
   "cell_type": "code",
   "execution_count": null,
   "id": "f6851bfb-d786-42de-b433-7a3e446da09d",
   "metadata": {},
   "outputs": [],
   "source": [
    "sns.regplot(x='GDPPC', y='DoD_TOT_ENACC_PER', data=df_2011, scatter_kws={'s':5},  line_kws={'color':'red'})\n",
    "plt.title('Regression Plot GDP Per Capita and Enlisted Accessions 2011')\n",
    "plt.xlabel('GDP Per Capita($)')\n",
    "plt.ylabel('Enlisted Accessions (%)')\n",
    "plt.show()"
   ]
  },
  {
   "cell_type": "code",
   "execution_count": null,
   "id": "e2d1c4a5-173e-457f-950c-8b0480c3db76",
   "metadata": {},
   "outputs": [],
   "source": []
  },
  {
   "cell_type": "code",
   "execution_count": null,
   "id": "92fd48b3-80a2-4d7b-8f21-b5488eb9af75",
   "metadata": {},
   "outputs": [],
   "source": [
    "df_2011_gdppc_enacc = df_2011[['GDPPC', 'DoD_TOT_ENACC_PER']]\n",
    "df_2011_gdppc_enacc.head(2)"
   ]
  },
  {
   "cell_type": "code",
   "execution_count": null,
   "id": "deb2eb73-cf1d-459f-a9de-2ce2674019cd",
   "metadata": {},
   "outputs": [],
   "source": []
  },
  {
   "cell_type": "code",
   "execution_count": null,
   "id": "9aa60334-66b7-45c1-b227-06f5e9cd1f84",
   "metadata": {},
   "outputs": [],
   "source": [
    "matrix = np.corrcoef(x=df_2011_gdppc_enacc['GDPPC'], y=df_2011_gdppc_enacc['DoD_TOT_ENACC_PER'])\n",
    "print(matrix)"
   ]
  },
  {
   "cell_type": "code",
   "execution_count": null,
   "id": "51dea3fb-3a43-4968-ad2c-e82efafac0a9",
   "metadata": {},
   "outputs": [],
   "source": []
  },
  {
   "cell_type": "markdown",
   "id": "fae3c348-0e78-4709-8c15-e10ffd3ac4d2",
   "metadata": {},
   "source": [
    "2012 all states and DC"
   ]
  },
  {
   "cell_type": "code",
   "execution_count": null,
   "id": "20510f94-5ce3-478b-95c5-2c8df08f89f1",
   "metadata": {},
   "outputs": [],
   "source": [
    "df_2012 = df[df['YEAR'] == 2012]\n",
    "df_2012.head(2)"
   ]
  },
  {
   "cell_type": "code",
   "execution_count": null,
   "id": "ea1fdfa0-6cbf-4be3-b0db-47b262833b11",
   "metadata": {},
   "outputs": [],
   "source": [
    "df_2012.describe()"
   ]
  },
  {
   "cell_type": "code",
   "execution_count": null,
   "id": "e770bcbe-9e6a-4322-84be-0e398ea811f0",
   "metadata": {},
   "outputs": [],
   "source": [
    "sns.boxplot(x=df_2012['YEAR'], y=df_2012['GDPPC']);\n",
    "plt.xlabel('Year')\n",
    "plt.ylabel('GDP Per Capita($)')\n",
    "plt.title('GDP Per Capita 2012');"
   ]
  },
  {
   "cell_type": "code",
   "execution_count": null,
   "id": "f66d60e5-4c17-4fbd-a50d-636edf76e990",
   "metadata": {},
   "outputs": [],
   "source": []
  },
  {
   "cell_type": "code",
   "execution_count": null,
   "id": "529302f4-a205-41f3-aee9-ad22cd4d2c70",
   "metadata": {},
   "outputs": [],
   "source": [
    "df_2012_gdppc_ordered = df_2012.sort_values('GDPPC', ascending=False)"
   ]
  },
  {
   "cell_type": "code",
   "execution_count": null,
   "id": "59dc3fc7-2704-4f8d-8342-4278a4d26f98",
   "metadata": {},
   "outputs": [],
   "source": [
    "fig, ax = plt.subplots(figsize=(16, 6))\n",
    "df_2012_gdppc_ordered = df_2012.sort_values('GDPPC', ascending=False)\n",
    "sns.barplot(x='ST_AB', y='GDPPC', data=df_2012_gdppc_ordered, palette='coolwarm')\n",
    "ax.set_xlabel(ax.get_xlabel(), labelpad=30)\n",
    "ax.set_ylabel(ax.get_ylabel(), labelpad=30)\n",
    "ax.xaxis.label.set_fontsize(20)\n",
    "ax.yaxis.label.set_fontsize(20)\n",
    "plt.title('GDP Per Capita by US State 2012')\n",
    "plt.xticks(rotation = 45)   \n",
    "plt.show()"
   ]
  },
  {
   "cell_type": "code",
   "execution_count": null,
   "id": "6404dd08-baf6-4f86-8641-d2b863313b53",
   "metadata": {},
   "outputs": [],
   "source": [
    "sns.regplot(x='GDPPC', y='DoD_TOT_ENACC_PER', data=df_2010, scatter_kws={'s':5},  line_kws={'color':'red'})\n",
    "plt.title('Regression Plot GDP Per Capita and Enlisted Accessions 2012')\n",
    "plt.xlabel('GDP Per Capita($)')\n",
    "plt.ylabel('Enlisted Accessions (%)')\n",
    "plt.show()"
   ]
  },
  {
   "cell_type": "code",
   "execution_count": null,
   "id": "5a449a0c-b3cd-470a-ae46-f22f5a8c1c00",
   "metadata": {},
   "outputs": [],
   "source": []
  },
  {
   "cell_type": "code",
   "execution_count": null,
   "id": "372f0e9e-d1af-4f1b-b148-47eda8ee6e29",
   "metadata": {},
   "outputs": [],
   "source": [
    "df_2012_gdppc_enacc = df_2012[['GDPPC', 'DoD_TOT_ENACC_PER']]\n",
    "df_2012_gdppc_enacc.head(2)"
   ]
  },
  {
   "cell_type": "code",
   "execution_count": null,
   "id": "b49902a8-3cc0-4086-b2bb-3d7638759e5a",
   "metadata": {},
   "outputs": [],
   "source": []
  },
  {
   "cell_type": "code",
   "execution_count": null,
   "id": "3d53b0dd-2190-449e-b138-86ea8e4bde60",
   "metadata": {},
   "outputs": [],
   "source": [
    "matrix = np.corrcoef(x=df_2012_gdppc_enacc['GDPPC'], y=df_2012_gdppc_enacc['DoD_TOT_ENACC_PER'])\n",
    "print(matrix)"
   ]
  },
  {
   "cell_type": "code",
   "execution_count": null,
   "id": "76a33656-0d0d-43d9-bc50-d84f5294eb36",
   "metadata": {},
   "outputs": [],
   "source": []
  },
  {
   "cell_type": "markdown",
   "id": "8099a5a3-0035-4f41-9b7d-1e3cef8a6b0a",
   "metadata": {},
   "source": [
    "2013 all states and DC"
   ]
  },
  {
   "cell_type": "code",
   "execution_count": null,
   "id": "8b615e8f-75b8-4398-9705-37b9f720b617",
   "metadata": {},
   "outputs": [],
   "source": [
    "df_2013 = df[df['YEAR'] == 2013]\n",
    "df_2013.head(2)"
   ]
  },
  {
   "cell_type": "code",
   "execution_count": null,
   "id": "cd85536a-de58-4d5d-ab41-65cd24f7fde8",
   "metadata": {},
   "outputs": [],
   "source": [
    "df_2013.describe()"
   ]
  },
  {
   "cell_type": "code",
   "execution_count": null,
   "id": "e539a2e9-bdba-40b2-b1de-a76d967aeaa9",
   "metadata": {},
   "outputs": [],
   "source": [
    "sns.boxplot(x=df_2013['YEAR'], y=df_2013['GDPPC']);\n",
    "plt.xlabel('Year')\n",
    "plt.ylabel('GDP Per Capita($)')\n",
    "plt.title('GDP Per Capita 2013');"
   ]
  },
  {
   "cell_type": "code",
   "execution_count": null,
   "id": "428cf967-27c8-4fd5-b346-f80dad8c4d96",
   "metadata": {},
   "outputs": [],
   "source": []
  },
  {
   "cell_type": "code",
   "execution_count": null,
   "id": "747b3b61-eb86-4ce6-9411-7c1b3163a45a",
   "metadata": {},
   "outputs": [],
   "source": [
    "df_2013_gdppc_ordered = df_2013.sort_values('GDPPC', ascending=False)"
   ]
  },
  {
   "cell_type": "code",
   "execution_count": null,
   "id": "616c688c-f203-4d4d-9693-6b87773876b7",
   "metadata": {},
   "outputs": [],
   "source": [
    "fig, ax = plt.subplots(figsize=(16, 6))\n",
    "df_2013_gdppc_ordered = df_2013.sort_values('GDPPC', ascending=False)\n",
    "sns.barplot(x='ST_AB', y='GDPPC', data=df_2013_gdppc_ordered, palette='coolwarm')\n",
    "ax.set_xlabel(ax.get_xlabel(), labelpad=30)\n",
    "ax.set_ylabel(ax.get_ylabel(), labelpad=30)\n",
    "ax.xaxis.label.set_fontsize(20)\n",
    "ax.yaxis.label.set_fontsize(20)\n",
    "plt.title('GDP Per Capita by US State 2013')\n",
    "plt.xticks(rotation = 45)   \n",
    "plt.show()"
   ]
  },
  {
   "cell_type": "code",
   "execution_count": null,
   "id": "56bafeca-8acb-4be7-97aa-b8643aae1d7d",
   "metadata": {},
   "outputs": [],
   "source": [
    "sns.regplot(x='GDPPC', y='DoD_TOT_ENACC_PER', data=df_2013, scatter_kws={'s':5},  line_kws={'color':'red'})\n",
    "plt.title('Regression Plot GDP Per Capita and Enlisted Accessions 2013')\n",
    "plt.xlabel('GDP Per Capita($)')\n",
    "plt.ylabel('Enlisted Accessions (%)')\n",
    "plt.show()"
   ]
  },
  {
   "cell_type": "code",
   "execution_count": null,
   "id": "76042347-d6ec-4c9e-85fc-2de6b9feb05e",
   "metadata": {},
   "outputs": [],
   "source": []
  },
  {
   "cell_type": "code",
   "execution_count": null,
   "id": "1f6e3c87-3ac2-4d8e-92a9-b61c8c0656d5",
   "metadata": {},
   "outputs": [],
   "source": [
    "df_2013_gdppc_enacc = df_2013[['GDPPC', 'DoD_TOT_ENACC_PER']]\n",
    "df_2013_gdppc_enacc.head(2)"
   ]
  },
  {
   "cell_type": "code",
   "execution_count": null,
   "id": "ee265af2-5fd5-4fbe-9f63-5578a35ad0d0",
   "metadata": {},
   "outputs": [],
   "source": []
  },
  {
   "cell_type": "code",
   "execution_count": null,
   "id": "3f87f37b-d7af-4094-9e05-7da6c665d345",
   "metadata": {},
   "outputs": [],
   "source": [
    "matrix = np.corrcoef(x=df_2013_gdppc_enacc['GDPPC'], y=df_2013_gdppc_enacc['DoD_TOT_ENACC_PER'])\n",
    "print(matrix)"
   ]
  },
  {
   "cell_type": "code",
   "execution_count": null,
   "id": "d278bfc5-7d31-48e3-bfaf-7cf63551bb1f",
   "metadata": {},
   "outputs": [],
   "source": []
  },
  {
   "cell_type": "markdown",
   "id": "e7c350c0-2514-4515-b7bb-198d3ad86b6d",
   "metadata": {},
   "source": [
    "2014 all states and DC"
   ]
  },
  {
   "cell_type": "code",
   "execution_count": null,
   "id": "31ae586c-29e2-47a2-aef4-4b826aef6438",
   "metadata": {},
   "outputs": [],
   "source": [
    "df_2014 = df[df['YEAR'] == 2014]\n",
    "df_2014.head(2)"
   ]
  },
  {
   "cell_type": "code",
   "execution_count": null,
   "id": "3ac97d27-9b59-46c5-acbf-3351e13793b3",
   "metadata": {},
   "outputs": [],
   "source": [
    "df_2014.describe()"
   ]
  },
  {
   "cell_type": "code",
   "execution_count": null,
   "id": "6a2317e1-f9dd-498a-85a8-4dade846a874",
   "metadata": {},
   "outputs": [],
   "source": [
    "sns.boxplot(x=df_2014['YEAR'], y=df_2014['GDPPC']);\n",
    "plt.xlabel('Year')\n",
    "plt.ylabel('GDP Per Capita($)')\n",
    "plt.title('GDP Per Capita 2014');"
   ]
  },
  {
   "cell_type": "code",
   "execution_count": null,
   "id": "25c340b0-e1ca-4428-98c2-3c883a994548",
   "metadata": {},
   "outputs": [],
   "source": []
  },
  {
   "cell_type": "code",
   "execution_count": null,
   "id": "f4db1c1c-9fda-4303-bb00-3b1d6358a908",
   "metadata": {},
   "outputs": [],
   "source": [
    "df_2014_gdppc_ordered = df_2014.sort_values('GDPPC', ascending=False)"
   ]
  },
  {
   "cell_type": "code",
   "execution_count": null,
   "id": "413ecc55-f732-4471-a402-c201204b10e6",
   "metadata": {},
   "outputs": [],
   "source": [
    "fig, ax = plt.subplots(figsize=(16, 6))\n",
    "df_2014_gdppc_ordered = df_2014.sort_values('GDPPC', ascending=False)\n",
    "sns.barplot(x='ST_AB', y='GDPPC', data=df_2014_gdppc_ordered, palette='coolwarm')\n",
    "ax.set_xlabel(ax.get_xlabel(), labelpad=30)\n",
    "ax.set_ylabel(ax.get_ylabel(), labelpad=30)\n",
    "ax.xaxis.label.set_fontsize(20)\n",
    "ax.yaxis.label.set_fontsize(20)\n",
    "plt.title('GDP Per Capita by US State 2014')\n",
    "plt.xticks(rotation = 45)   \n",
    "plt.show()"
   ]
  },
  {
   "cell_type": "code",
   "execution_count": null,
   "id": "93907b71-e5aa-46a0-bee3-0c4ac7f4421a",
   "metadata": {},
   "outputs": [],
   "source": [
    "sns.regplot(x='GDPPC', y='DoD_TOT_ENACC_PER', data=df_2014, scatter_kws={'s':5},  line_kws={'color':'red'})\n",
    "plt.title('Regression Plot GDP Per Capita and Enlisted Accessions 2014')\n",
    "plt.xlabel('GDP Per Capita($)')\n",
    "plt.ylabel('Enlisted Accessions (%)')\n",
    "plt.show()"
   ]
  },
  {
   "cell_type": "code",
   "execution_count": null,
   "id": "f3104edf-64b7-45c0-8025-c1902d6ddaaf",
   "metadata": {},
   "outputs": [],
   "source": []
  },
  {
   "cell_type": "code",
   "execution_count": null,
   "id": "6d2f0c07-faa6-40fb-8910-230b93352646",
   "metadata": {},
   "outputs": [],
   "source": [
    "df_2014_gdppc_enacc = df_2014[['GDPPC', 'DoD_TOT_ENACC_PER']]\n",
    "df_2014_gdppc_enacc.head(2)"
   ]
  },
  {
   "cell_type": "code",
   "execution_count": null,
   "id": "1b92e5d4-8f09-4b60-9460-d8409e4e64a7",
   "metadata": {},
   "outputs": [],
   "source": []
  },
  {
   "cell_type": "code",
   "execution_count": null,
   "id": "9c396b25-1947-45c6-a03e-a99c6397e2d3",
   "metadata": {},
   "outputs": [],
   "source": [
    "matrix = np.corrcoef(x=df_2014_gdppc_enacc['GDPPC'], y=df_2014_gdppc_enacc['DoD_TOT_ENACC_PER'])\n",
    "print(matrix)"
   ]
  },
  {
   "cell_type": "code",
   "execution_count": null,
   "id": "05be40b3-b52e-48c6-94a2-5e8f6c59574e",
   "metadata": {},
   "outputs": [],
   "source": []
  },
  {
   "cell_type": "markdown",
   "id": "2de3f897-994a-4d54-a566-8768dd7ae8da",
   "metadata": {},
   "source": [
    "2015 all states and DC"
   ]
  },
  {
   "cell_type": "code",
   "execution_count": null,
   "id": "db6ef28f-a335-43b8-b2b2-f7fc11525e7b",
   "metadata": {},
   "outputs": [],
   "source": [
    "df_2015 = df[df['YEAR'] == 2015]\n",
    "df_2015.head(2)"
   ]
  },
  {
   "cell_type": "code",
   "execution_count": null,
   "id": "91f78153-1ab7-4798-b8b6-f1342b7952d1",
   "metadata": {},
   "outputs": [],
   "source": [
    "df_2015.describe()"
   ]
  },
  {
   "cell_type": "code",
   "execution_count": null,
   "id": "bddb3497-19cb-4a84-b442-5ed478c1f1c0",
   "metadata": {},
   "outputs": [],
   "source": [
    "sns.boxplot(x=df_2015['YEAR'], y=df_2015['GDPPC']);\n",
    "plt.xlabel('Year')\n",
    "plt.ylabel('GDP Per Capita($)')\n",
    "plt.title('GDP Per Capita 2015');"
   ]
  },
  {
   "cell_type": "code",
   "execution_count": null,
   "id": "033c121c-762f-4ed0-b2f6-c83d0e109f92",
   "metadata": {},
   "outputs": [],
   "source": []
  },
  {
   "cell_type": "code",
   "execution_count": null,
   "id": "0e683b46-62cf-4950-a0b5-3d7d4111bce2",
   "metadata": {},
   "outputs": [],
   "source": [
    "df_2015_gdppc_ordered = df_2015.sort_values('GDPPC', ascending=False)"
   ]
  },
  {
   "cell_type": "code",
   "execution_count": null,
   "id": "ab73054d-3a6e-41fe-9759-eb9cadfb3cc7",
   "metadata": {},
   "outputs": [],
   "source": [
    "fig, ax = plt.subplots(figsize=(16, 6))\n",
    "df_2015_gdppc_ordered = df_2015.sort_values('GDPPC', ascending=False)\n",
    "sns.barplot(x='ST_AB', y='GDPPC', data=df_2015_gdppc_ordered, palette='coolwarm')\n",
    "ax.set_xlabel(ax.get_xlabel(), labelpad=30)\n",
    "ax.set_ylabel(ax.get_ylabel(), labelpad=30)\n",
    "ax.xaxis.label.set_fontsize(20)\n",
    "ax.yaxis.label.set_fontsize(20)\n",
    "plt.title('GDP Per Capita by US State 2015')\n",
    "plt.xticks(rotation = 45)   \n",
    "plt.show()"
   ]
  },
  {
   "cell_type": "code",
   "execution_count": null,
   "id": "76e2119b-8d08-491a-bf94-2247a8df08b1",
   "metadata": {},
   "outputs": [],
   "source": [
    "sns.regplot(x='GDPPC', y='DoD_TOT_ENACC_PER', data=df_2015, scatter_kws={'s':5},  line_kws={'color':'red'})\n",
    "plt.title('Regression Plot GDP Per Capita and Enlisted Accessions 2015')\n",
    "plt.xlabel('GDP Per Capita($)')\n",
    "plt.ylabel('Enlisted Accessions (%)')\n",
    "plt.show()"
   ]
  },
  {
   "cell_type": "code",
   "execution_count": null,
   "id": "5e1752a9-b4eb-4afd-b90d-71795a17d174",
   "metadata": {},
   "outputs": [],
   "source": []
  },
  {
   "cell_type": "code",
   "execution_count": null,
   "id": "041d7475-74fc-4a0f-9f39-32e58fb252d3",
   "metadata": {},
   "outputs": [],
   "source": [
    "df_2015_gdppc_enacc = df_2015[['GDPPC', 'DoD_TOT_ENACC_PER']]\n",
    "df_2015_gdppc_enacc.head(2)"
   ]
  },
  {
   "cell_type": "code",
   "execution_count": null,
   "id": "ce25bc11-c9d7-41fe-8e1e-b16e1d9230bb",
   "metadata": {},
   "outputs": [],
   "source": []
  },
  {
   "cell_type": "code",
   "execution_count": null,
   "id": "ba0fbf90-cc71-426f-ba1c-5403d2e3adbf",
   "metadata": {},
   "outputs": [],
   "source": [
    "matrix = np.corrcoef(x=df_2015_gdppc_enacc['GDPPC'], y=df_2015_gdppc_enacc['DoD_TOT_ENACC_PER'])\n",
    "print(matrix)"
   ]
  },
  {
   "cell_type": "code",
   "execution_count": null,
   "id": "ccf5c2eb-3f63-4bce-930d-4ecfe16cf38f",
   "metadata": {},
   "outputs": [],
   "source": []
  },
  {
   "cell_type": "markdown",
   "id": "f8aab3d8-de22-4f05-80f1-def5ac0dfb9a",
   "metadata": {},
   "source": [
    "2016 all states and DC"
   ]
  },
  {
   "cell_type": "code",
   "execution_count": null,
   "id": "957d607d-af37-449d-8c20-3e8f50de6692",
   "metadata": {},
   "outputs": [],
   "source": [
    "df_2016 = df[df['YEAR'] == 2016]\n",
    "df_2016.head(2)"
   ]
  },
  {
   "cell_type": "code",
   "execution_count": null,
   "id": "8a3a1d41-85c1-4736-8ea8-5db43eb3ffe8",
   "metadata": {},
   "outputs": [],
   "source": [
    "df_2016.describe()"
   ]
  },
  {
   "cell_type": "code",
   "execution_count": null,
   "id": "2317841c-701e-4ca3-a01a-c84a7e330119",
   "metadata": {},
   "outputs": [],
   "source": [
    "sns.boxplot(x=df_2016['YEAR'], y=df_2016['GDPPC']);\n",
    "plt.xlabel('Year')\n",
    "plt.ylabel('GDP Per Capita($)')\n",
    "plt.title('GDP Per Capita 2016');"
   ]
  },
  {
   "cell_type": "code",
   "execution_count": null,
   "id": "b71d9705-ce25-47c9-959d-27529d2db7da",
   "metadata": {},
   "outputs": [],
   "source": []
  },
  {
   "cell_type": "code",
   "execution_count": null,
   "id": "81530641-d9a2-4971-90c9-c7000cc7a379",
   "metadata": {},
   "outputs": [],
   "source": [
    "df_2016_gdppc_ordered = df_2016.sort_values('GDPPC', ascending=False)"
   ]
  },
  {
   "cell_type": "code",
   "execution_count": null,
   "id": "354fb9bd-df7f-4a7c-bf49-2016a1bdb6e0",
   "metadata": {},
   "outputs": [],
   "source": [
    "fig, ax = plt.subplots(figsize=(16, 6))\n",
    "df_2016_gdppc_ordered = df_2016.sort_values('GDPPC', ascending=False)\n",
    "sns.barplot(x='ST_AB', y='GDPPC', data=df_2016_gdppc_ordered, palette='coolwarm')\n",
    "ax.set_xlabel(ax.get_xlabel(), labelpad=30)\n",
    "ax.set_ylabel(ax.get_ylabel(), labelpad=30)\n",
    "ax.xaxis.label.set_fontsize(20)\n",
    "ax.yaxis.label.set_fontsize(20)\n",
    "plt.title('GDP Per Capita by US State 2016')\n",
    "plt.xticks(rotation = 45)   \n",
    "plt.show()"
   ]
  },
  {
   "cell_type": "code",
   "execution_count": null,
   "id": "4be65e66-4a5b-4e38-bc27-bc0bf8008f57",
   "metadata": {},
   "outputs": [],
   "source": [
    "sns.regplot(x='GDPPC', y='DoD_TOT_ENACC_PER', data=df_2016, scatter_kws={'s':5},  line_kws={'color':'red'})\n",
    "plt.title('Regression Plot GDP Per Capita and Enlisted Accessions 2016')\n",
    "plt.xlabel('GDP Per Capita($)')\n",
    "plt.ylabel('Enlisted Accessions (%)')\n",
    "plt.show()"
   ]
  },
  {
   "cell_type": "code",
   "execution_count": null,
   "id": "2b509097-6ea5-4d18-ae6d-5c2ad11c0d0f",
   "metadata": {},
   "outputs": [],
   "source": []
  },
  {
   "cell_type": "code",
   "execution_count": null,
   "id": "9e8ca0cf-291a-4862-8014-1957c70ffe7a",
   "metadata": {},
   "outputs": [],
   "source": [
    "df_2016_gdppc_enacc = df_2016[['GDPPC', 'DoD_TOT_ENACC_PER']]\n",
    "df_2016_gdppc_enacc.head(2)"
   ]
  },
  {
   "cell_type": "code",
   "execution_count": null,
   "id": "4b5c8544-8dd6-4d1c-9bcf-e9fad2a9ef88",
   "metadata": {},
   "outputs": [],
   "source": []
  },
  {
   "cell_type": "code",
   "execution_count": null,
   "id": "5ed8960e-7226-43ea-bdfd-25eb2c9c8fb4",
   "metadata": {},
   "outputs": [],
   "source": [
    "matrix = np.corrcoef(x=df_2016_gdppc_enacc['GDPPC'], y=df_2016_gdppc_enacc['DoD_TOT_ENACC_PER'])\n",
    "print(matrix)"
   ]
  },
  {
   "cell_type": "code",
   "execution_count": null,
   "id": "fb128331-5209-4e1b-b4e2-14d01c43c625",
   "metadata": {},
   "outputs": [],
   "source": []
  },
  {
   "cell_type": "markdown",
   "id": "78bd5c05-bf04-465f-93d8-7f9c37ba7f39",
   "metadata": {},
   "source": [
    "2017 all states and DC"
   ]
  },
  {
   "cell_type": "code",
   "execution_count": null,
   "id": "ca4880fc-51d3-4d13-b667-ea12e7234977",
   "metadata": {},
   "outputs": [],
   "source": [
    "df_2017 = df[df['YEAR'] == 2017]\n",
    "df_2017.head(2)"
   ]
  },
  {
   "cell_type": "code",
   "execution_count": null,
   "id": "95fd69a5-6001-4b69-8922-f976915526d5",
   "metadata": {},
   "outputs": [],
   "source": [
    "df_2017.describe()"
   ]
  },
  {
   "cell_type": "code",
   "execution_count": null,
   "id": "eee8e726-667b-4eca-850e-8e35b10d733f",
   "metadata": {},
   "outputs": [],
   "source": [
    "sns.boxplot(x=df_2017['YEAR'], y=df_2017['GDPPC']);\n",
    "plt.xlabel('Year')\n",
    "plt.ylabel('GDP Per Capita($)')\n",
    "plt.title('GDP Per Capita 2017');"
   ]
  },
  {
   "cell_type": "code",
   "execution_count": null,
   "id": "1c343536-d521-491a-956b-578fae70ad2a",
   "metadata": {},
   "outputs": [],
   "source": []
  },
  {
   "cell_type": "code",
   "execution_count": null,
   "id": "a724ed47-d429-4efb-97e0-bd61dc59172b",
   "metadata": {},
   "outputs": [],
   "source": [
    "df_2017_gdppc_ordered = df_2017.sort_values('GDPPC', ascending=False)"
   ]
  },
  {
   "cell_type": "code",
   "execution_count": null,
   "id": "7745da11-49fe-4c27-9385-d62412408e53",
   "metadata": {},
   "outputs": [],
   "source": [
    "fig, ax = plt.subplots(figsize=(16, 6))\n",
    "df_2017_gdppc_ordered = df_2017.sort_values('GDPPC', ascending=False)\n",
    "sns.barplot(x='ST_AB', y='GDPPC', data=df_2017_gdppc_ordered, palette='coolwarm')\n",
    "ax.set_xlabel(ax.get_xlabel(), labelpad=30)\n",
    "ax.set_ylabel(ax.get_ylabel(), labelpad=30)\n",
    "ax.xaxis.label.set_fontsize(20)\n",
    "ax.yaxis.label.set_fontsize(20)\n",
    "plt.title('GDP Per Capita by US State 2017')\n",
    "plt.xticks(rotation = 45)   \n",
    "plt.show()"
   ]
  },
  {
   "cell_type": "code",
   "execution_count": null,
   "id": "ed914fc1-acef-40b5-b185-e69d5d74c8bf",
   "metadata": {},
   "outputs": [],
   "source": [
    "sns.regplot(x='GDPPC', y='DoD_TOT_ENACC_PER', data=df_2017, scatter_kws={'s':5},  line_kws={'color':'red'})\n",
    "plt.title('Regression Plot GDP Per Capita and Enlisted Accessions 2017')\n",
    "plt.xlabel('GDP Per Capita($)')\n",
    "plt.ylabel('Enlisted Accessions (%)')\n",
    "plt.show()"
   ]
  },
  {
   "cell_type": "code",
   "execution_count": null,
   "id": "e82dc3da-e3ef-4347-ad85-1f4a9bdda808",
   "metadata": {},
   "outputs": [],
   "source": []
  },
  {
   "cell_type": "code",
   "execution_count": null,
   "id": "684a800a-ff12-499e-9c7d-538c7366870a",
   "metadata": {},
   "outputs": [],
   "source": [
    "df_2017_gdppc_enacc = df_2017[['GDPPC', 'DoD_TOT_ENACC_PER']]\n",
    "df_2017_gdppc_enacc.head(2)"
   ]
  },
  {
   "cell_type": "code",
   "execution_count": null,
   "id": "df9a3b83-a27e-497e-ac78-5cc9380b5952",
   "metadata": {},
   "outputs": [],
   "source": []
  },
  {
   "cell_type": "code",
   "execution_count": null,
   "id": "18885d7e-b6de-42af-856d-c7a670cc3bdb",
   "metadata": {},
   "outputs": [],
   "source": [
    "matrix = np.corrcoef(x=df_2017_gdppc_enacc['GDPPC'], y=df_2017_gdppc_enacc['DoD_TOT_ENACC_PER'])\n",
    "print(matrix)"
   ]
  },
  {
   "cell_type": "code",
   "execution_count": null,
   "id": "c6785160-1f40-4e5c-8b78-fd6c023177ee",
   "metadata": {},
   "outputs": [],
   "source": []
  },
  {
   "cell_type": "markdown",
   "id": "c83c89b9-2199-4cf7-b9ad-bbdcbd16e5e4",
   "metadata": {},
   "source": [
    "2018 all states and DC"
   ]
  },
  {
   "cell_type": "code",
   "execution_count": null,
   "id": "82fc351f-46d4-498d-8205-a314b3ba1cff",
   "metadata": {},
   "outputs": [],
   "source": [
    "df_2018 = df[df['YEAR'] == 2018]\n",
    "df_2018.head(2)"
   ]
  },
  {
   "cell_type": "code",
   "execution_count": null,
   "id": "fba234a3-267b-4de9-b0f9-cff6415eaf27",
   "metadata": {},
   "outputs": [],
   "source": [
    "df_2018.describe()"
   ]
  },
  {
   "cell_type": "code",
   "execution_count": null,
   "id": "7c7f7fd8-ec25-4854-bd25-10af1092af2a",
   "metadata": {},
   "outputs": [],
   "source": [
    "sns.boxplot(x=df_2018['YEAR'], y=df_2018['GDPPC']);\n",
    "plt.xlabel('Year')\n",
    "plt.ylabel('GDP Per Capita($)')\n",
    "plt.title('GDP Per Capita 2018');"
   ]
  },
  {
   "cell_type": "code",
   "execution_count": null,
   "id": "a0c301d9-72c1-4107-9227-ecf6fc92e0a0",
   "metadata": {},
   "outputs": [],
   "source": []
  },
  {
   "cell_type": "code",
   "execution_count": null,
   "id": "a93baa41-a400-497f-9b33-bf560a29ee41",
   "metadata": {},
   "outputs": [],
   "source": [
    "df_2018_gdppc_ordered = df_2018.sort_values('GDPPC', ascending=False)"
   ]
  },
  {
   "cell_type": "code",
   "execution_count": null,
   "id": "f45ff60f-2db8-42b4-90ec-53d278010211",
   "metadata": {},
   "outputs": [],
   "source": [
    "fig, ax = plt.subplots(figsize=(16, 6))\n",
    "df_2018_gdppc_ordered = df_2018.sort_values('GDPPC', ascending=False)\n",
    "sns.barplot(x='ST_AB', y='GDPPC', data=df_2018_gdppc_ordered, palette='coolwarm')\n",
    "ax.set_xlabel(ax.get_xlabel(), labelpad=30)\n",
    "ax.set_ylabel(ax.get_ylabel(), labelpad=30)\n",
    "ax.xaxis.label.set_fontsize(20)\n",
    "ax.yaxis.label.set_fontsize(20)\n",
    "plt.title('GDP Per Capita by US State 2018')\n",
    "plt.xticks(rotation = 45)   \n",
    "plt.show()"
   ]
  },
  {
   "cell_type": "code",
   "execution_count": null,
   "id": "f81e5142-b0d8-4622-a414-e9baccd802c2",
   "metadata": {},
   "outputs": [],
   "source": [
    "sns.regplot(x='GDPPC', y='DoD_TOT_ENACC_PER', data=df_2018, scatter_kws={'s':5},  line_kws={'color':'red'})\n",
    "plt.title('Regression Plot GDP Per Capita and Enlisted Accessions 2018')\n",
    "plt.xlabel('GDP Per Capita($)')\n",
    "plt.ylabel('Enlisted Accessions (%)')\n",
    "plt.show()"
   ]
  },
  {
   "cell_type": "code",
   "execution_count": null,
   "id": "7077eeed-d0a7-4510-8532-bbdbb268705f",
   "metadata": {},
   "outputs": [],
   "source": []
  },
  {
   "cell_type": "code",
   "execution_count": null,
   "id": "9748e29d-8a11-4f37-ba12-af0a55734443",
   "metadata": {},
   "outputs": [],
   "source": [
    "df_2018_gdppc_enacc = df_2018[['GDPPC', 'DoD_TOT_ENACC_PER']]\n",
    "df_2018_gdppc_enacc.head(2)"
   ]
  },
  {
   "cell_type": "code",
   "execution_count": null,
   "id": "55f276a6-33ec-4adc-8a05-4f67e7b11572",
   "metadata": {},
   "outputs": [],
   "source": []
  },
  {
   "cell_type": "code",
   "execution_count": null,
   "id": "2241429b-4376-4a27-a293-1237b82b812e",
   "metadata": {},
   "outputs": [],
   "source": [
    "matrix = np.corrcoef(x=df_2018_gdppc_enacc['GDPPC'], y=df_2018_gdppc_enacc['DoD_TOT_ENACC_PER'])\n",
    "print(matrix)"
   ]
  },
  {
   "cell_type": "code",
   "execution_count": null,
   "id": "bf8bb2b9-cc04-46b4-9b22-b4e2933d39eb",
   "metadata": {},
   "outputs": [],
   "source": []
  },
  {
   "cell_type": "markdown",
   "id": "034110d3-75f8-4050-a074-efd298da3900",
   "metadata": {},
   "source": [
    "2019 all states and DC"
   ]
  },
  {
   "cell_type": "code",
   "execution_count": null,
   "id": "cf1704c6-3675-4d3e-abd5-80eb3fa936ea",
   "metadata": {},
   "outputs": [],
   "source": [
    "df_2019 = df[df['YEAR'] == 2019]\n",
    "df_2019.head(2)"
   ]
  },
  {
   "cell_type": "code",
   "execution_count": null,
   "id": "c88ed290-8a50-4705-9e8c-3219b9f85f67",
   "metadata": {},
   "outputs": [],
   "source": [
    "df_2019.describe()"
   ]
  },
  {
   "cell_type": "code",
   "execution_count": null,
   "id": "4ad1ed54-4acd-4ac9-86a7-e425bca2e100",
   "metadata": {},
   "outputs": [],
   "source": [
    "sns.boxplot(x=df_2019['YEAR'], y=df_2019['GDPPC']);\n",
    "plt.xlabel('Year')\n",
    "plt.ylabel('GDP Per Capita($)')\n",
    "plt.title('GDP Per Capita 2019');"
   ]
  },
  {
   "cell_type": "code",
   "execution_count": null,
   "id": "cc08cf1d-420c-4058-ba75-ea9dcaf2093a",
   "metadata": {},
   "outputs": [],
   "source": []
  },
  {
   "cell_type": "code",
   "execution_count": null,
   "id": "6a777a7d-8a97-4502-b26e-d5c124d4d2da",
   "metadata": {},
   "outputs": [],
   "source": [
    "df_2019_gdppc_ordered = df_2019.sort_values('GDPPC', ascending=False)"
   ]
  },
  {
   "cell_type": "code",
   "execution_count": null,
   "id": "504354fc-c0e4-4cf8-bb68-e1bb7091f0b8",
   "metadata": {},
   "outputs": [],
   "source": [
    "fig, ax = plt.subplots(figsize=(16, 6))\n",
    "df_2019_gdppc_ordered = df_2019.sort_values('GDPPC', ascending=False)\n",
    "sns.barplot(x='ST_AB', y='GDPPC', data=df_2019_gdppc_ordered, palette='coolwarm')\n",
    "ax.set_xlabel(ax.get_xlabel(), labelpad=30)\n",
    "ax.set_ylabel(ax.get_ylabel(), labelpad=30)\n",
    "ax.xaxis.label.set_fontsize(20)\n",
    "ax.yaxis.label.set_fontsize(20)\n",
    "plt.title('GDP Per Capita by US State 2019')\n",
    "plt.xticks(rotation = 45)   \n",
    "plt.show()"
   ]
  },
  {
   "cell_type": "code",
   "execution_count": null,
   "id": "287f33e7-052a-42fa-a998-83bd125eada0",
   "metadata": {},
   "outputs": [],
   "source": [
    "sns.regplot(x='GDPPC', y='DoD_TOT_ENACC_PER', data=df_2019, scatter_kws={'s':5},  line_kws={'color':'red'})\n",
    "plt.title('Regression Plot GDP Per Capita and Enlisted Accessions 2019')\n",
    "plt.xlabel('GDP Per Capita($)')\n",
    "plt.ylabel('Enlisted Accessions (%)')\n",
    "plt.show()"
   ]
  },
  {
   "cell_type": "code",
   "execution_count": null,
   "id": "b0275f77-9a15-423c-9c03-9565b0485586",
   "metadata": {},
   "outputs": [],
   "source": []
  },
  {
   "cell_type": "code",
   "execution_count": null,
   "id": "72a4a5b9-56d6-4ab3-bfcc-573901a6c611",
   "metadata": {},
   "outputs": [],
   "source": [
    "df_2019_gdppc_enacc = df_2019[['GDPPC', 'DoD_TOT_ENACC_PER']]\n",
    "df_2019_gdppc_enacc.head(2)"
   ]
  },
  {
   "cell_type": "code",
   "execution_count": null,
   "id": "394b1d16-ec57-4f89-a1ec-84b59eefaded",
   "metadata": {},
   "outputs": [],
   "source": []
  },
  {
   "cell_type": "code",
   "execution_count": null,
   "id": "f189b8b6-5bb8-4df3-bcd5-7d2450c0abee",
   "metadata": {},
   "outputs": [],
   "source": [
    "matrix = np.corrcoef(x=df_2019_gdppc_enacc['GDPPC'], y=df_2019_gdppc_enacc['DoD_TOT_ENACC_PER'])\n",
    "print(matrix)"
   ]
  },
  {
   "cell_type": "code",
   "execution_count": null,
   "id": "7b2a7520-12be-459b-bcdd-8e62cb4701d5",
   "metadata": {},
   "outputs": [],
   "source": []
  },
  {
   "cell_type": "markdown",
   "id": "6aa3101d-0856-4a51-bf9a-84d687ae10fd",
   "metadata": {},
   "source": [
    "2020 all states and DC"
   ]
  },
  {
   "cell_type": "code",
   "execution_count": null,
   "id": "cf9342c7-ee73-4ca9-8099-3524860c7965",
   "metadata": {},
   "outputs": [],
   "source": [
    "df_2020 = df[df['YEAR'] == 2020]\n",
    "df_2020.head(2)"
   ]
  },
  {
   "cell_type": "code",
   "execution_count": null,
   "id": "71d1fe9f-f35e-4e2d-af14-e2650fa2a99c",
   "metadata": {},
   "outputs": [],
   "source": [
    "df_2020.describe()"
   ]
  },
  {
   "cell_type": "code",
   "execution_count": null,
   "id": "d55bcd0e-6ef1-429c-9000-e84e5da94574",
   "metadata": {},
   "outputs": [],
   "source": [
    "sns.boxplot(x=df_2020['YEAR'], y=df_2020['GDPPC']);\n",
    "plt.xlabel('Year')\n",
    "plt.ylabel('GDP Per Capita($)')\n",
    "plt.title('GDP Per Capita 2020');"
   ]
  },
  {
   "cell_type": "code",
   "execution_count": null,
   "id": "eb6ef70a-d9b8-494e-b733-5ede3eb66e1c",
   "metadata": {},
   "outputs": [],
   "source": []
  },
  {
   "cell_type": "code",
   "execution_count": null,
   "id": "993cebf9-7e36-4ed3-9040-7de2ccff04b4",
   "metadata": {},
   "outputs": [],
   "source": [
    "df_2020_gdppc_ordered = df_2020.sort_values('GDPPC', ascending=False)"
   ]
  },
  {
   "cell_type": "code",
   "execution_count": null,
   "id": "e9518277-0ac7-4591-bf98-3949ddf191a8",
   "metadata": {},
   "outputs": [],
   "source": [
    "fig, ax = plt.subplots(figsize=(16, 6))\n",
    "df_2020_gdppc_ordered = df_2020.sort_values('GDPPC', ascending=False)\n",
    "#mean = pd.DataFrame({'ST_AB':['US mean'], 'GDPPC\n",
    "sns.barplot(x='ST_AB', y='GDPPC', data=df_2020_gdppc_ordered, palette='coolwarm')\n",
    "ax.set_xlabel(ax.get_xlabel(), labelpad=30)\n",
    "ax.set_ylabel(ax.get_ylabel(), labelpad=30)\n",
    "ax.xaxis.label.set_fontsize(20)\n",
    "ax.yaxis.label.set_fontsize(20)\n",
    "plt.title('GDP Per Capita by US State 2020')\n",
    "plt.xticks(rotation = 45)   \n",
    "plt.show()"
   ]
  },
  {
   "cell_type": "code",
   "execution_count": null,
   "id": "bc12bd27-a5cb-402b-9ea6-95fd2ec143c5",
   "metadata": {},
   "outputs": [],
   "source": [
    "sns.regplot(x='GDPPC', y='DoD_TOT_ENACC_PER', data=df_2020, scatter_kws={'s':5},  line_kws={'color':'red'})\n",
    "plt.title('Regression Plot GDP Per Capita and Enlisted Accessions 2020')\n",
    "plt.xlabel('GDP Per Capita($)')\n",
    "plt.ylabel('Enlisted Accessions (%)')\n",
    "plt.show()"
   ]
  },
  {
   "cell_type": "code",
   "execution_count": null,
   "id": "452771c1-3723-4597-94e5-8b908e77a1e4",
   "metadata": {},
   "outputs": [],
   "source": []
  },
  {
   "cell_type": "code",
   "execution_count": null,
   "id": "a454ff27-c373-4d9f-8c52-d5d9f013b65e",
   "metadata": {},
   "outputs": [],
   "source": [
    "df_2020_gdppc_enacc = df_2020[['GDPPC', 'DoD_TOT_ENACC_PER']]\n",
    "df_2020_gdppc_enacc.head(2)"
   ]
  },
  {
   "cell_type": "code",
   "execution_count": null,
   "id": "b81789aa-b003-49ac-a082-250250e4c8d9",
   "metadata": {},
   "outputs": [],
   "source": []
  },
  {
   "cell_type": "code",
   "execution_count": null,
   "id": "bd2c764d-2b2c-426b-b1da-7ea7445eb62f",
   "metadata": {},
   "outputs": [],
   "source": [
    "matrix = np.corrcoef(x=df_2020_gdppc_enacc['GDPPC'], y=df_2020_gdppc_enacc['DoD_TOT_ENACC_PER'])\n",
    "print(matrix)"
   ]
  },
  {
   "cell_type": "code",
   "execution_count": null,
   "id": "afcf8a87-6bf1-4bef-b04f-8b64e7afb862",
   "metadata": {},
   "outputs": [],
   "source": []
  },
  {
   "cell_type": "code",
   "execution_count": null,
   "id": "2475e9f6-58d3-41f9-870e-f8e83a868a3c",
   "metadata": {},
   "outputs": [],
   "source": []
  },
  {
   "cell_type": "code",
   "execution_count": null,
   "id": "03a880b2-6f89-495e-90db-2b6df5ee61dc",
   "metadata": {},
   "outputs": [],
   "source": []
  },
  {
   "cell_type": "code",
   "execution_count": null,
   "id": "eb61c229-2909-42b2-88ac-8b77729015b0",
   "metadata": {},
   "outputs": [],
   "source": []
  },
  {
   "cell_type": "code",
   "execution_count": null,
   "id": "91f5244a-1414-4dc5-945a-9a8d3259a0e9",
   "metadata": {},
   "outputs": [],
   "source": []
  },
  {
   "cell_type": "code",
   "execution_count": null,
   "id": "990af1e1-0aa4-4d2a-b7fd-92c428f92833",
   "metadata": {},
   "outputs": [],
   "source": []
  },
  {
   "cell_type": "code",
   "execution_count": null,
   "id": "de3da2e9-33ee-4aa9-a9ca-069135cb22ac",
   "metadata": {},
   "outputs": [],
   "source": []
  },
  {
   "cell_type": "code",
   "execution_count": null,
   "id": "b3ff3e72-0e53-44c0-b67e-11c652c55863",
   "metadata": {},
   "outputs": [],
   "source": []
  }
 ],
 "metadata": {
  "kernelspec": {
   "display_name": "Python 3 (ipykernel)",
   "language": "python",
   "name": "python3"
  },
  "language_info": {
   "codemirror_mode": {
    "name": "ipython",
    "version": 3
   },
   "file_extension": ".py",
   "mimetype": "text/x-python",
   "name": "python",
   "nbconvert_exporter": "python",
   "pygments_lexer": "ipython3",
   "version": "3.12.4"
  }
 },
 "nbformat": 4,
 "nbformat_minor": 5
}
