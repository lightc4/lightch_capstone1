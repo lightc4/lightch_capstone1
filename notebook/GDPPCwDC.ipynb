{
 "cells": [
  {
   "cell_type": "markdown",
   "id": "1184474f-ef03-45d2-b3d7-95953df0891e",
   "metadata": {},
   "source": [
    "Is GPPPC related to ENACC?\n",
    "This notebook contains Washington DC data"
   ]
  },
  {
   "cell_type": "code",
   "execution_count": 2,
   "id": "d656cac2-4278-4d41-8d50-5db29328c458",
   "metadata": {},
   "outputs": [],
   "source": [
    "import pandas as pd\n",
    "import numpy as np\n",
    "import re\n",
    "import matplotlib.pyplot as plt\n",
    "import plotly\n",
    "import plotly.express as px\n",
    "import seaborn as sns\n",
    "\n",
    "%matplotlib inline"
   ]
  },
  {
   "cell_type": "code",
   "execution_count": 3,
   "id": "4e6ca562-5970-4db5-8ebf-a58e517bfe18",
   "metadata": {},
   "outputs": [
    {
     "data": {
      "text/html": [
       "<div>\n",
       "<style scoped>\n",
       "    .dataframe tbody tr th:only-of-type {\n",
       "        vertical-align: middle;\n",
       "    }\n",
       "\n",
       "    .dataframe tbody tr th {\n",
       "        vertical-align: top;\n",
       "    }\n",
       "\n",
       "    .dataframe thead th {\n",
       "        text-align: right;\n",
       "    }\n",
       "</style>\n",
       "<table border=\"1\" class=\"dataframe\">\n",
       "  <thead>\n",
       "    <tr style=\"text-align: right;\">\n",
       "      <th></th>\n",
       "      <th>STATE</th>\n",
       "      <th>ST_AB</th>\n",
       "      <th>YEAR</th>\n",
       "      <th>GDP</th>\n",
       "      <th>POP_EST</th>\n",
       "      <th>GDPPC</th>\n",
       "      <th>DoD_TOT_ENACC</th>\n",
       "      <th>DoD_TOT_ENACC_PER</th>\n",
       "    </tr>\n",
       "  </thead>\n",
       "  <tbody>\n",
       "    <tr>\n",
       "      <th>0</th>\n",
       "      <td>Alabama</td>\n",
       "      <td>AL</td>\n",
       "      <td>2010</td>\n",
       "      <td>1.772492e+11</td>\n",
       "      <td>4785514</td>\n",
       "      <td>37038.696366</td>\n",
       "      <td>3029</td>\n",
       "      <td>1.90</td>\n",
       "    </tr>\n",
       "    <tr>\n",
       "      <th>1</th>\n",
       "      <td>Alaska</td>\n",
       "      <td>AK</td>\n",
       "      <td>2010</td>\n",
       "      <td>5.333160e+10</td>\n",
       "      <td>713982</td>\n",
       "      <td>74696.000740</td>\n",
       "      <td>412</td>\n",
       "      <td>0.26</td>\n",
       "    </tr>\n",
       "    <tr>\n",
       "      <th>2</th>\n",
       "      <td>Arizona</td>\n",
       "      <td>AZ</td>\n",
       "      <td>2010</td>\n",
       "      <td>2.511530e+11</td>\n",
       "      <td>6407342</td>\n",
       "      <td>39197.689151</td>\n",
       "      <td>3840</td>\n",
       "      <td>2.50</td>\n",
       "    </tr>\n",
       "    <tr>\n",
       "      <th>3</th>\n",
       "      <td>Arkansas</td>\n",
       "      <td>AR</td>\n",
       "      <td>2010</td>\n",
       "      <td>1.014865e+11</td>\n",
       "      <td>2921998</td>\n",
       "      <td>34731.885511</td>\n",
       "      <td>1522</td>\n",
       "      <td>1.00</td>\n",
       "    </tr>\n",
       "    <tr>\n",
       "      <th>4</th>\n",
       "      <td>California</td>\n",
       "      <td>CA</td>\n",
       "      <td>2010</td>\n",
       "      <td>1.954093e+12</td>\n",
       "      <td>37319550</td>\n",
       "      <td>52361.100281</td>\n",
       "      <td>17386</td>\n",
       "      <td>11.10</td>\n",
       "    </tr>\n",
       "    <tr>\n",
       "      <th>5</th>\n",
       "      <td>Colorado</td>\n",
       "      <td>CO</td>\n",
       "      <td>2010</td>\n",
       "      <td>2.583002e+11</td>\n",
       "      <td>5047539</td>\n",
       "      <td>51173.492666</td>\n",
       "      <td>2961</td>\n",
       "      <td>1.90</td>\n",
       "    </tr>\n",
       "    <tr>\n",
       "      <th>6</th>\n",
       "      <td>Connecticut</td>\n",
       "      <td>CT</td>\n",
       "      <td>2010</td>\n",
       "      <td>2.347000e+11</td>\n",
       "      <td>3579173</td>\n",
       "      <td>65573.807134</td>\n",
       "      <td>1174</td>\n",
       "      <td>0.75</td>\n",
       "    </tr>\n",
       "    <tr>\n",
       "      <th>7</th>\n",
       "      <td>Delaware</td>\n",
       "      <td>DE</td>\n",
       "      <td>2010</td>\n",
       "      <td>5.816350e+10</td>\n",
       "      <td>899647</td>\n",
       "      <td>64651.468854</td>\n",
       "      <td>381</td>\n",
       "      <td>0.24</td>\n",
       "    </tr>\n",
       "    <tr>\n",
       "      <th>8</th>\n",
       "      <td>District of Columbia</td>\n",
       "      <td>DC</td>\n",
       "      <td>2010</td>\n",
       "      <td>1.061469e+11</td>\n",
       "      <td>605282</td>\n",
       "      <td>175367.679858</td>\n",
       "      <td>102</td>\n",
       "      <td>0.07</td>\n",
       "    </tr>\n",
       "  </tbody>\n",
       "</table>\n",
       "</div>"
      ],
      "text/plain": [
       "                  STATE ST_AB  YEAR           GDP   POP_EST          GDPPC  \\\n",
       "0               Alabama    AL  2010  1.772492e+11   4785514   37038.696366   \n",
       "1                Alaska    AK  2010  5.333160e+10    713982   74696.000740   \n",
       "2               Arizona    AZ  2010  2.511530e+11   6407342   39197.689151   \n",
       "3              Arkansas    AR  2010  1.014865e+11   2921998   34731.885511   \n",
       "4            California    CA  2010  1.954093e+12  37319550   52361.100281   \n",
       "5              Colorado    CO  2010  2.583002e+11   5047539   51173.492666   \n",
       "6           Connecticut    CT  2010  2.347000e+11   3579173   65573.807134   \n",
       "7              Delaware    DE  2010  5.816350e+10    899647   64651.468854   \n",
       "8  District of Columbia    DC  2010  1.061469e+11    605282  175367.679858   \n",
       "\n",
       "   DoD_TOT_ENACC  DoD_TOT_ENACC_PER  \n",
       "0           3029               1.90  \n",
       "1            412               0.26  \n",
       "2           3840               2.50  \n",
       "3           1522               1.00  \n",
       "4          17386              11.10  \n",
       "5           2961               1.90  \n",
       "6           1174               0.75  \n",
       "7            381               0.24  \n",
       "8            102               0.07  "
      ]
     },
     "execution_count": 3,
     "metadata": {},
     "output_type": "execute_result"
    }
   ],
   "source": [
    "df = pd.read_excel('../data/GDPPC_ENACC_ state_total_10_20.xlsx')\n",
    "df.head(9)"
   ]
  },
  {
   "cell_type": "code",
   "execution_count": 4,
   "id": "2181f986-358a-4021-8d0a-0288f1128fd7",
   "metadata": {},
   "outputs": [
    {
     "name": "stdout",
     "output_type": "stream",
     "text": [
      "<class 'pandas.core.frame.DataFrame'>\n",
      "RangeIndex: 561 entries, 0 to 560\n",
      "Data columns (total 8 columns):\n",
      " #   Column             Non-Null Count  Dtype  \n",
      "---  ------             --------------  -----  \n",
      " 0   STATE              561 non-null    object \n",
      " 1   ST_AB              561 non-null    object \n",
      " 2   YEAR               561 non-null    int64  \n",
      " 3   GDP                561 non-null    float64\n",
      " 4   POP_EST            561 non-null    int64  \n",
      " 5   GDPPC              561 non-null    float64\n",
      " 6   DoD_TOT_ENACC      561 non-null    int64  \n",
      " 7   DoD_TOT_ENACC_PER  561 non-null    float64\n",
      "dtypes: float64(3), int64(3), object(2)\n",
      "memory usage: 35.2+ KB\n"
     ]
    }
   ],
   "source": [
    "df.info()"
   ]
  },
  {
   "cell_type": "markdown",
   "id": "4cbb852a-2712-4d8a-a7e4-b429cfe41a85",
   "metadata": {},
   "source": [
    "Calculations are on the US 2010-2020"
   ]
  },
  {
   "cell_type": "code",
   "execution_count": 6,
   "id": "0b17d649-520a-464f-a589-110a3f594fb3",
   "metadata": {},
   "outputs": [
    {
     "data": {
      "text/html": [
       "<div>\n",
       "<style scoped>\n",
       "    .dataframe tbody tr th:only-of-type {\n",
       "        vertical-align: middle;\n",
       "    }\n",
       "\n",
       "    .dataframe tbody tr th {\n",
       "        vertical-align: top;\n",
       "    }\n",
       "\n",
       "    .dataframe thead th {\n",
       "        text-align: right;\n",
       "    }\n",
       "</style>\n",
       "<table border=\"1\" class=\"dataframe\">\n",
       "  <thead>\n",
       "    <tr style=\"text-align: right;\">\n",
       "      <th></th>\n",
       "      <th>YEAR</th>\n",
       "      <th>GDP</th>\n",
       "      <th>POP_EST</th>\n",
       "      <th>GDPPC</th>\n",
       "      <th>DoD_TOT_ENACC</th>\n",
       "      <th>DoD_TOT_ENACC_PER</th>\n",
       "    </tr>\n",
       "  </thead>\n",
       "  <tbody>\n",
       "    <tr>\n",
       "      <th>count</th>\n",
       "      <td>561.0000</td>\n",
       "      <td>5.610000e+02</td>\n",
       "      <td>5.610000e+02</td>\n",
       "      <td>561.000000</td>\n",
       "      <td>561.000000</td>\n",
       "      <td>561.000000</td>\n",
       "    </tr>\n",
       "    <tr>\n",
       "      <th>mean</th>\n",
       "      <td>2015.0000</td>\n",
       "      <td>3.553919e+11</td>\n",
       "      <td>6.279536e+06</td>\n",
       "      <td>56863.848427</td>\n",
       "      <td>2991.819964</td>\n",
       "      <td>1.961176</td>\n",
       "    </tr>\n",
       "    <tr>\n",
       "      <th>std</th>\n",
       "      <td>3.1651</td>\n",
       "      <td>4.488416e+11</td>\n",
       "      <td>7.083345e+06</td>\n",
       "      <td>21520.375207</td>\n",
       "      <td>3634.533458</td>\n",
       "      <td>2.373835</td>\n",
       "    </tr>\n",
       "    <tr>\n",
       "      <th>min</th>\n",
       "      <td>2010.0000</td>\n",
       "      <td>2.740660e+10</td>\n",
       "      <td>5.645310e+05</td>\n",
       "      <td>31624.124971</td>\n",
       "      <td>69.000000</td>\n",
       "      <td>0.050000</td>\n",
       "    </tr>\n",
       "    <tr>\n",
       "      <th>25%</th>\n",
       "      <td>2012.0000</td>\n",
       "      <td>8.721740e+10</td>\n",
       "      <td>1.752074e+06</td>\n",
       "      <td>46053.373212</td>\n",
       "      <td>818.000000</td>\n",
       "      <td>0.540000</td>\n",
       "    </tr>\n",
       "    <tr>\n",
       "      <th>50%</th>\n",
       "      <td>2015.0000</td>\n",
       "      <td>2.085586e+11</td>\n",
       "      <td>4.429126e+06</td>\n",
       "      <td>53214.380252</td>\n",
       "      <td>1913.000000</td>\n",
       "      <td>1.260000</td>\n",
       "    </tr>\n",
       "    <tr>\n",
       "      <th>75%</th>\n",
       "      <td>2018.0000</td>\n",
       "      <td>4.317227e+11</td>\n",
       "      <td>7.164228e+06</td>\n",
       "      <td>62156.014299</td>\n",
       "      <td>3428.000000</td>\n",
       "      <td>2.240000</td>\n",
       "    </tr>\n",
       "    <tr>\n",
       "      <th>max</th>\n",
       "      <td>2020.0000</td>\n",
       "      <td>3.042694e+12</td>\n",
       "      <td>3.943761e+07</td>\n",
       "      <td>203304.186498</td>\n",
       "      <td>20095.000000</td>\n",
       "      <td>12.490000</td>\n",
       "    </tr>\n",
       "  </tbody>\n",
       "</table>\n",
       "</div>"
      ],
      "text/plain": [
       "            YEAR           GDP       POP_EST          GDPPC  DoD_TOT_ENACC  \\\n",
       "count   561.0000  5.610000e+02  5.610000e+02     561.000000     561.000000   \n",
       "mean   2015.0000  3.553919e+11  6.279536e+06   56863.848427    2991.819964   \n",
       "std       3.1651  4.488416e+11  7.083345e+06   21520.375207    3634.533458   \n",
       "min    2010.0000  2.740660e+10  5.645310e+05   31624.124971      69.000000   \n",
       "25%    2012.0000  8.721740e+10  1.752074e+06   46053.373212     818.000000   \n",
       "50%    2015.0000  2.085586e+11  4.429126e+06   53214.380252    1913.000000   \n",
       "75%    2018.0000  4.317227e+11  7.164228e+06   62156.014299    3428.000000   \n",
       "max    2020.0000  3.042694e+12  3.943761e+07  203304.186498   20095.000000   \n",
       "\n",
       "       DoD_TOT_ENACC_PER  \n",
       "count         561.000000  \n",
       "mean            1.961176  \n",
       "std             2.373835  \n",
       "min             0.050000  \n",
       "25%             0.540000  \n",
       "50%             1.260000  \n",
       "75%             2.240000  \n",
       "max            12.490000  "
      ]
     },
     "execution_count": 6,
     "metadata": {},
     "output_type": "execute_result"
    }
   ],
   "source": [
    "df.describe()"
   ]
  },
  {
   "cell_type": "code",
   "execution_count": 12,
   "id": "b98bcb70-f833-4972-abd0-daa081b34d89",
   "metadata": {},
   "outputs": [
    {
     "data": {
      "image/png": "[encoded data removed]",
      "text/plain": [
       "<Figure size 640x480 with 1 Axes>"
      ]
     },
     "metadata": {},
     "output_type": "display_data"
    }
   ],
   "source": [
    "sns.boxplot(x=df['YEAR'], y=df['GDPPC']);\n",
    "plt.xlabel('Year')\n",
    "plt.ylabel('GDP Per Capita($)')\n",
    "plt.title('GDP Per Capita 2010-2020');"
   ]
  },
  {
   "cell_type": "code",
   "execution_count": null,
   "id": "ca74bcdb-f4bb-4395-9371-1a4d6f660672",
   "metadata": {},
   "outputs": [],
   "source": []
  },
  {
   "cell_type": "code",
   "execution_count": 14,
   "id": "09d6668c-45dd-4c07-9a0e-677f084f559c",
   "metadata": {},
   "outputs": [
    {
     "data": {
      "image/png": "[encoded data removed]",
      "text/plain": [
       "<Figure size 640x480 with 1 Axes>"
      ]
     },
     "metadata": {},
     "output_type": "display_data"
    }
   ],
   "source": [
    "sns.regplot(x='GDPPC', y='DoD_TOT_ENACC_PER', data=df, scatter_kws={'s':5},  line_kws={'color':'red'})\n",
    "plt.title('Regression Plot GDP Per Capita and Enlisted Accessions 2010-2020')\n",
    "plt.xlabel('GDP Per Capita($)')\n",
    "plt.ylabel('Enlisted Accessions (%)')\n",
    "plt.show()\n",
    "#A scatterplot overlayed with the regression line highlights the potential predictive relationship,         \n",
    "#As the line better fits the data, the r-squared value of the regression output will get closer and closer to 1."
   ]
  },
  {
   "cell_type": "code",
   "execution_count": null,
   "id": "ed501421-8c18-4395-9eb3-c1b407ad3100",
   "metadata": {},
   "outputs": [],
   "source": []
  },
  {
   "cell_type": "code",
   "execution_count": 11,
   "id": "3acc0fbf-8979-4fc6-869c-4933de8bdc0a",
   "metadata": {},
   "outputs": [
    {
     "data": {
      "text/html": [
       "<div>\n",
       "<style scoped>\n",
       "    .dataframe tbody tr th:only-of-type {\n",
       "        vertical-align: middle;\n",
       "    }\n",
       "\n",
       "    .dataframe tbody tr th {\n",
       "        vertical-align: top;\n",
       "    }\n",
       "\n",
       "    .dataframe thead th {\n",
       "        text-align: right;\n",
       "    }\n",
       "</style>\n",
       "<table border=\"1\" class=\"dataframe\">\n",
       "  <thead>\n",
       "    <tr style=\"text-align: right;\">\n",
       "      <th></th>\n",
       "      <th>GDPPC</th>\n",
       "      <th>DoD_TOT_ENACC_PER</th>\n",
       "    </tr>\n",
       "  </thead>\n",
       "  <tbody>\n",
       "    <tr>\n",
       "      <th>0</th>\n",
       "      <td>37038.696366</td>\n",
       "      <td>1.90</td>\n",
       "    </tr>\n",
       "    <tr>\n",
       "      <th>1</th>\n",
       "      <td>74696.000740</td>\n",
       "      <td>0.26</td>\n",
       "    </tr>\n",
       "    <tr>\n",
       "      <th>2</th>\n",
       "      <td>39197.689151</td>\n",
       "      <td>2.50</td>\n",
       "    </tr>\n",
       "    <tr>\n",
       "      <th>3</th>\n",
       "      <td>34731.885511</td>\n",
       "      <td>1.00</td>\n",
       "    </tr>\n",
       "    <tr>\n",
       "      <th>4</th>\n",
       "      <td>52361.100281</td>\n",
       "      <td>11.10</td>\n",
       "    </tr>\n",
       "  </tbody>\n",
       "</table>\n",
       "</div>"
      ],
      "text/plain": [
       "          GDPPC  DoD_TOT_ENACC_PER\n",
       "0  37038.696366               1.90\n",
       "1  74696.000740               0.26\n",
       "2  39197.689151               2.50\n",
       "3  34731.885511               1.00\n",
       "4  52361.100281              11.10"
      ]
     },
     "execution_count": 11,
     "metadata": {},
     "output_type": "execute_result"
    }
   ],
   "source": [
    "df_gdppc_enacc = df[['GDPPC', 'DoD_TOT_ENACC_PER']]\n",
    "df_gdppc_enacc.head()"
   ]
  },
  {
   "cell_type": "code",
   "execution_count": null,
   "id": "85c87a5f-a2f2-49d9-b5bb-7920da698de3",
   "metadata": {},
   "outputs": [],
   "source": [
    "dataplot = sns.heatmap(df_gdppc_enacc.corr(numeric_only=True), cmap='coolwarm')\n",
    "plt.show()"
   ]
  },
  {
   "cell_type": "code",
   "execution_count": null,
   "id": "0ed3212d-8d01-47e4-930c-b38927c7c81c",
   "metadata": {},
   "outputs": [],
   "source": []
  },
  {
   "cell_type": "code",
   "execution_count": null,
   "id": "152351e4-27e4-4e15-86f5-a3cd661446d3",
   "metadata": {},
   "outputs": [],
   "source": []
  },
  {
   "cell_type": "code",
   "execution_count": null,
   "id": "611ecd3d-9bbf-46e6-90bb-deb5af4acf26",
   "metadata": {},
   "outputs": [],
   "source": []
  },
  {
   "cell_type": "code",
   "execution_count": null,
   "id": "3a71da6c-1a6f-4a51-9658-0d9071b71914",
   "metadata": {},
   "outputs": [],
   "source": []
  },
  {
   "cell_type": "code",
   "execution_count": null,
   "id": "9c4ff4ba-b45f-45e2-b8e1-1ba41a20658c",
   "metadata": {},
   "outputs": [],
   "source": []
  },
  {
   "cell_type": "code",
   "execution_count": null,
   "id": "b5bd4e3c-ca55-415d-8428-a538b2b807b4",
   "metadata": {},
   "outputs": [],
   "source": []
  },
  {
   "cell_type": "code",
   "execution_count": null,
   "id": "c33cef67-b700-4948-b978-a1fd06953ebb",
   "metadata": {},
   "outputs": [],
   "source": []
  },
  {
   "cell_type": "code",
   "execution_count": null,
   "id": "5d922f90-153d-4706-89fa-436da7f0dd8f",
   "metadata": {},
   "outputs": [],
   "source": []
  },
  {
   "cell_type": "code",
   "execution_count": null,
   "id": "3eba716b-8770-4810-bb28-59809356493a",
   "metadata": {},
   "outputs": [],
   "source": []
  },
  {
   "cell_type": "code",
   "execution_count": null,
   "id": "98a593c5-fdcf-4231-ad74-431a1b1fa4dd",
   "metadata": {},
   "outputs": [],
   "source": []
  },
  {
   "cell_type": "code",
   "execution_count": null,
   "id": "f6851bfb-d786-42de-b433-7a3e446da09d",
   "metadata": {},
   "outputs": [],
   "source": []
  },
  {
   "cell_type": "code",
   "execution_count": null,
   "id": "a2cece7e-a3cb-4433-9def-9aa9963b21d7",
   "metadata": {},
   "outputs": [],
   "source": []
  },
  {
   "cell_type": "code",
   "execution_count": null,
   "id": "20510f94-5ce3-478b-95c5-2c8df08f89f1",
   "metadata": {},
   "outputs": [],
   "source": []
  },
  {
   "cell_type": "code",
   "execution_count": null,
   "id": "ea1fdfa0-6cbf-4be3-b0db-47b262833b11",
   "metadata": {},
   "outputs": [],
   "source": []
  },
  {
   "cell_type": "code",
   "execution_count": null,
   "id": "e770bcbe-9e6a-4322-84be-0e398ea811f0",
   "metadata": {},
   "outputs": [],
   "source": []
  },
  {
   "cell_type": "code",
   "execution_count": null,
   "id": "6404dd08-baf6-4f86-8641-d2b863313b53",
   "metadata": {},
   "outputs": [],
   "source": []
  },
  {
   "cell_type": "code",
   "execution_count": null,
   "id": "fda63396-0f3e-46c5-8af3-ba1a2a12b2d9",
   "metadata": {},
   "outputs": [],
   "source": []
  },
  {
   "cell_type": "code",
   "execution_count": null,
   "id": "8b615e8f-75b8-4398-9705-37b9f720b617",
   "metadata": {},
   "outputs": [],
   "source": []
  },
  {
   "cell_type": "code",
   "execution_count": null,
   "id": "cd85536a-de58-4d5d-ab41-65cd24f7fde8",
   "metadata": {},
   "outputs": [],
   "source": []
  },
  {
   "cell_type": "code",
   "execution_count": null,
   "id": "e539a2e9-bdba-40b2-b1de-a76d967aeaa9",
   "metadata": {},
   "outputs": [],
   "source": []
  },
  {
   "cell_type": "code",
   "execution_count": null,
   "id": "56bafeca-8acb-4be7-97aa-b8643aae1d7d",
   "metadata": {},
   "outputs": [],
   "source": []
  },
  {
   "cell_type": "code",
   "execution_count": null,
   "id": "87965a5e-c0c7-40cd-a0f9-9094d3a2f453",
   "metadata": {},
   "outputs": [],
   "source": []
  },
  {
   "cell_type": "code",
   "execution_count": null,
   "id": "31ae586c-29e2-47a2-aef4-4b826aef6438",
   "metadata": {},
   "outputs": [],
   "source": []
  },
  {
   "cell_type": "code",
   "execution_count": null,
   "id": "3ac97d27-9b59-46c5-acbf-3351e13793b3",
   "metadata": {},
   "outputs": [],
   "source": []
  }
 ],
 "metadata": {
  "kernelspec": {
   "display_name": "Python 3 (ipykernel)",
   "language": "python",
   "name": "python3"
  },
  "language_info": {
   "codemirror_mode": {
    "name": "ipython",
    "version": 3
   },
   "file_extension": ".py",
   "mimetype": "text/x-python",
   "name": "python",
   "nbconvert_exporter": "python",
   "pygments_lexer": "ipython3",
   "version": "3.12.4"
  }
 },
 "nbformat": 4,
 "nbformat_minor": 5
}
